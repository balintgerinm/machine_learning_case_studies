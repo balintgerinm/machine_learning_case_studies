{
 "cells": [
  {
   "cell_type": "code",
   "execution_count": 1,
   "id": "2d0d87a8",
   "metadata": {},
   "outputs": [
    {
     "name": "stderr",
     "output_type": "stream",
     "text": [
      "/opt/conda/lib/python3.9/site-packages/scipy/__init__.py:146: UserWarning: A NumPy version >=1.16.5 and <1.23.0 is required for this version of SciPy (detected version 1.24.3\n",
      "  warnings.warn(f\"A NumPy version >={np_minversion} and <{np_maxversion}\"\n"
     ]
    }
   ],
   "source": [
    "import pandas as pd\n",
    "import numpy as np\n",
    "import matplotlib.pyplot as plt\n",
    "from sklearn.linear_model import LinearRegression\n",
    "from sklearn.model_selection import train_test_split\n",
    "from sklearn.model_selection import cross_validate\n",
    "from sklearn.model_selection import GridSearchCV\n",
    "from sklearn.ensemble import GradientBoostingRegressor\n",
    "from sklearn.neural_network import MLPRegressor\n",
    "from sklearn.metrics import make_scorer\n",
    "import random\n",
    "import collections\n",
    "%matplotlib inline"
   ]
  },
  {
   "cell_type": "markdown",
   "id": "193828bd",
   "metadata": {},
   "source": [
    "# Adatelőkészítés"
   ]
  },
  {
   "cell_type": "code",
   "execution_count": 2,
   "id": "59334c34",
   "metadata": {},
   "outputs": [],
   "source": [
    "df = pd.read_csv('data/DataSet_LakasArak.csv')"
   ]
  },
  {
   "cell_type": "code",
   "execution_count": 3,
   "id": "ec3e70ae",
   "metadata": {},
   "outputs": [],
   "source": [
    "del df['ad_view_cnt']\n",
    "del df['active_days']\n",
    "del df['nr']"
   ]
  },
  {
   "cell_type": "code",
   "execution_count": 4,
   "id": "c479bc80",
   "metadata": {},
   "outputs": [
    {
     "data": {
      "text/html": [
       "<div>\n",
       "<style scoped>\n",
       "    .dataframe tbody tr th:only-of-type {\n",
       "        vertical-align: middle;\n",
       "    }\n",
       "\n",
       "    .dataframe tbody tr th {\n",
       "        vertical-align: top;\n",
       "    }\n",
       "\n",
       "    .dataframe thead th {\n",
       "        text-align: right;\n",
       "    }\n",
       "</style>\n",
       "<table border=\"1\" class=\"dataframe\">\n",
       "  <thead>\n",
       "    <tr style=\"text-align: right;\">\n",
       "      <th></th>\n",
       "      <th>elevator_type</th>\n",
       "      <th>county</th>\n",
       "      <th>room_cnt</th>\n",
       "      <th>view_type</th>\n",
       "      <th>balcony_area</th>\n",
       "      <th>garden_access</th>\n",
       "      <th>created_at</th>\n",
       "      <th>small_room_cnt</th>\n",
       "      <th>orientation</th>\n",
       "      <th>property_type</th>\n",
       "      <th>postcode</th>\n",
       "      <th>property_area</th>\n",
       "      <th>building_floor_count</th>\n",
       "      <th>city</th>\n",
       "      <th>property_condition_type</th>\n",
       "      <th>property_subtype</th>\n",
       "      <th>heating_type</th>\n",
       "      <th>property_floor</th>\n",
       "      <th>price_created_at</th>\n",
       "    </tr>\n",
       "  </thead>\n",
       "  <tbody>\n",
       "    <tr>\n",
       "      <th>0</th>\n",
       "      <td>yes</td>\n",
       "      <td>Budapest</td>\n",
       "      <td>2.0</td>\n",
       "      <td>street view</td>\n",
       "      <td>0.0</td>\n",
       "      <td>NaN</td>\n",
       "      <td>2015-02-09</td>\n",
       "      <td>1.0</td>\n",
       "      <td>NaN</td>\n",
       "      <td>flat</td>\n",
       "      <td>NaN</td>\n",
       "      <td>65.0</td>\n",
       "      <td>NaN</td>\n",
       "      <td>Budapest XII.</td>\n",
       "      <td>good</td>\n",
       "      <td>brick flat (for sale)</td>\n",
       "      <td>tile stove (gas)</td>\n",
       "      <td>1</td>\n",
       "      <td>23.5</td>\n",
       "    </tr>\n",
       "    <tr>\n",
       "      <th>1</th>\n",
       "      <td>yes</td>\n",
       "      <td>Budapest</td>\n",
       "      <td>1.0</td>\n",
       "      <td>street view</td>\n",
       "      <td>0.0</td>\n",
       "      <td>NaN</td>\n",
       "      <td>2015-02-09</td>\n",
       "      <td>1.0</td>\n",
       "      <td>NaN</td>\n",
       "      <td>flat</td>\n",
       "      <td>1016.0</td>\n",
       "      <td>45.0</td>\n",
       "      <td>NaN</td>\n",
       "      <td>Budapest I.</td>\n",
       "      <td>novel</td>\n",
       "      <td>brick flat (for sale)</td>\n",
       "      <td>konvection gas burner</td>\n",
       "      <td>2</td>\n",
       "      <td>20.0</td>\n",
       "    </tr>\n",
       "    <tr>\n",
       "      <th>2</th>\n",
       "      <td>yes</td>\n",
       "      <td>Budapest</td>\n",
       "      <td>2.0</td>\n",
       "      <td>garden view</td>\n",
       "      <td>0.0</td>\n",
       "      <td>NaN</td>\n",
       "      <td>2015-02-09</td>\n",
       "      <td>1.0</td>\n",
       "      <td>NaN</td>\n",
       "      <td>flat</td>\n",
       "      <td>1164.0</td>\n",
       "      <td>60.0</td>\n",
       "      <td>NaN</td>\n",
       "      <td>Budapest XVI.</td>\n",
       "      <td>novel</td>\n",
       "      <td>brick flat (for sale)</td>\n",
       "      <td>central heating with own meter</td>\n",
       "      <td>1</td>\n",
       "      <td>22.0</td>\n",
       "    </tr>\n",
       "    <tr>\n",
       "      <th>3</th>\n",
       "      <td>none</td>\n",
       "      <td>Budapest</td>\n",
       "      <td>2.0</td>\n",
       "      <td>garden view</td>\n",
       "      <td>4.0</td>\n",
       "      <td>NaN</td>\n",
       "      <td>2015-02-09</td>\n",
       "      <td>0.0</td>\n",
       "      <td>NaN</td>\n",
       "      <td>flat</td>\n",
       "      <td>NaN</td>\n",
       "      <td>55.0</td>\n",
       "      <td>NaN</td>\n",
       "      <td>Budapest X.</td>\n",
       "      <td>good</td>\n",
       "      <td>brick flat (for sale)</td>\n",
       "      <td>central heating</td>\n",
       "      <td>4</td>\n",
       "      <td>11.0</td>\n",
       "    </tr>\n",
       "    <tr>\n",
       "      <th>4</th>\n",
       "      <td>yes</td>\n",
       "      <td>Budapest</td>\n",
       "      <td>2.0</td>\n",
       "      <td>NaN</td>\n",
       "      <td>3.0</td>\n",
       "      <td>NaN</td>\n",
       "      <td>2015-02-09</td>\n",
       "      <td>1.0</td>\n",
       "      <td>NaN</td>\n",
       "      <td>flat</td>\n",
       "      <td>1181.0</td>\n",
       "      <td>60.0</td>\n",
       "      <td>NaN</td>\n",
       "      <td>Budapest XVIII.</td>\n",
       "      <td>renewed</td>\n",
       "      <td>prefabricated panel flat (for sale)</td>\n",
       "      <td>NaN</td>\n",
       "      <td>6</td>\n",
       "      <td>10.2</td>\n",
       "    </tr>\n",
       "    <tr>\n",
       "      <th>...</th>\n",
       "      <td>...</td>\n",
       "      <td>...</td>\n",
       "      <td>...</td>\n",
       "      <td>...</td>\n",
       "      <td>...</td>\n",
       "      <td>...</td>\n",
       "      <td>...</td>\n",
       "      <td>...</td>\n",
       "      <td>...</td>\n",
       "      <td>...</td>\n",
       "      <td>...</td>\n",
       "      <td>...</td>\n",
       "      <td>...</td>\n",
       "      <td>...</td>\n",
       "      <td>...</td>\n",
       "      <td>...</td>\n",
       "      <td>...</td>\n",
       "      <td>...</td>\n",
       "      <td>...</td>\n",
       "    </tr>\n",
       "    <tr>\n",
       "      <th>78534</th>\n",
       "      <td>none</td>\n",
       "      <td>Budapest</td>\n",
       "      <td>2.0</td>\n",
       "      <td>NaN</td>\n",
       "      <td>0.0</td>\n",
       "      <td>NaN</td>\n",
       "      <td>2016-08-29</td>\n",
       "      <td>0.0</td>\n",
       "      <td>south</td>\n",
       "      <td>flat</td>\n",
       "      <td>1063.0</td>\n",
       "      <td>65.0</td>\n",
       "      <td>NaN</td>\n",
       "      <td>Budapest VI.</td>\n",
       "      <td>to_be_renovated</td>\n",
       "      <td>brick flat (for sale)</td>\n",
       "      <td>gas furnace, circulating hot water</td>\n",
       "      <td>1</td>\n",
       "      <td>29.9</td>\n",
       "    </tr>\n",
       "    <tr>\n",
       "      <th>78535</th>\n",
       "      <td>yes</td>\n",
       "      <td>Budapest</td>\n",
       "      <td>1.0</td>\n",
       "      <td>NaN</td>\n",
       "      <td>0.0</td>\n",
       "      <td>NaN</td>\n",
       "      <td>2016-08-29</td>\n",
       "      <td>0.0</td>\n",
       "      <td>NaN</td>\n",
       "      <td>flat</td>\n",
       "      <td>1031.0</td>\n",
       "      <td>35.0</td>\n",
       "      <td>NaN</td>\n",
       "      <td>Budapest III.</td>\n",
       "      <td>missing_info</td>\n",
       "      <td>prefabricated panel flat (for sale)</td>\n",
       "      <td>NaN</td>\n",
       "      <td>NaN</td>\n",
       "      <td>12.9</td>\n",
       "    </tr>\n",
       "    <tr>\n",
       "      <th>78536</th>\n",
       "      <td>none</td>\n",
       "      <td>Budapest</td>\n",
       "      <td>1.0</td>\n",
       "      <td>NaN</td>\n",
       "      <td>0.0</td>\n",
       "      <td>NaN</td>\n",
       "      <td>2016-08-29</td>\n",
       "      <td>0.0</td>\n",
       "      <td>NaN</td>\n",
       "      <td>flat</td>\n",
       "      <td>NaN</td>\n",
       "      <td>25.0</td>\n",
       "      <td>NaN</td>\n",
       "      <td>Budapest XIV.</td>\n",
       "      <td>good</td>\n",
       "      <td>brick flat (for sale)</td>\n",
       "      <td>konvection gas burner</td>\n",
       "      <td>ground floor</td>\n",
       "      <td>9.0</td>\n",
       "    </tr>\n",
       "    <tr>\n",
       "      <th>78537</th>\n",
       "      <td>none</td>\n",
       "      <td>Budapest</td>\n",
       "      <td>1.0</td>\n",
       "      <td>NaN</td>\n",
       "      <td>0.0</td>\n",
       "      <td>NaN</td>\n",
       "      <td>2016-08-29</td>\n",
       "      <td>1.0</td>\n",
       "      <td>east</td>\n",
       "      <td>flat</td>\n",
       "      <td>1024.0</td>\n",
       "      <td>40.0</td>\n",
       "      <td>NaN</td>\n",
       "      <td>Budapest II.</td>\n",
       "      <td>novel</td>\n",
       "      <td>brick flat (for sale)</td>\n",
       "      <td>gas furnace, circulating hot water</td>\n",
       "      <td>basement</td>\n",
       "      <td>17.5</td>\n",
       "    </tr>\n",
       "    <tr>\n",
       "      <th>78538</th>\n",
       "      <td>yes</td>\n",
       "      <td>Budapest</td>\n",
       "      <td>2.0</td>\n",
       "      <td>street view</td>\n",
       "      <td>0.0</td>\n",
       "      <td>NaN</td>\n",
       "      <td>2016-08-29</td>\n",
       "      <td>0.0</td>\n",
       "      <td>east</td>\n",
       "      <td>flat</td>\n",
       "      <td>1061.0</td>\n",
       "      <td>55.0</td>\n",
       "      <td>4</td>\n",
       "      <td>Budapest VI.</td>\n",
       "      <td>novel</td>\n",
       "      <td>brick flat (for sale)</td>\n",
       "      <td>central heating with own meter</td>\n",
       "      <td>3</td>\n",
       "      <td>42.9</td>\n",
       "    </tr>\n",
       "  </tbody>\n",
       "</table>\n",
       "<p>78539 rows × 19 columns</p>\n",
       "</div>"
      ],
      "text/plain": [
       "      elevator_type    county  room_cnt    view_type  balcony_area  \\\n",
       "0               yes  Budapest       2.0  street view           0.0   \n",
       "1               yes  Budapest       1.0  street view           0.0   \n",
       "2               yes  Budapest       2.0  garden view           0.0   \n",
       "3              none  Budapest       2.0  garden view           4.0   \n",
       "4               yes  Budapest       2.0          NaN           3.0   \n",
       "...             ...       ...       ...          ...           ...   \n",
       "78534          none  Budapest       2.0          NaN           0.0   \n",
       "78535           yes  Budapest       1.0          NaN           0.0   \n",
       "78536          none  Budapest       1.0          NaN           0.0   \n",
       "78537          none  Budapest       1.0          NaN           0.0   \n",
       "78538           yes  Budapest       2.0  street view           0.0   \n",
       "\n",
       "      garden_access  created_at  small_room_cnt orientation property_type  \\\n",
       "0               NaN  2015-02-09             1.0         NaN          flat   \n",
       "1               NaN  2015-02-09             1.0         NaN          flat   \n",
       "2               NaN  2015-02-09             1.0         NaN          flat   \n",
       "3               NaN  2015-02-09             0.0         NaN          flat   \n",
       "4               NaN  2015-02-09             1.0         NaN          flat   \n",
       "...             ...         ...             ...         ...           ...   \n",
       "78534           NaN  2016-08-29             0.0       south          flat   \n",
       "78535           NaN  2016-08-29             0.0         NaN          flat   \n",
       "78536           NaN  2016-08-29             0.0         NaN          flat   \n",
       "78537           NaN  2016-08-29             1.0        east          flat   \n",
       "78538           NaN  2016-08-29             0.0        east          flat   \n",
       "\n",
       "       postcode  property_area building_floor_count             city  \\\n",
       "0           NaN           65.0                  NaN    Budapest XII.   \n",
       "1        1016.0           45.0                  NaN      Budapest I.   \n",
       "2        1164.0           60.0                  NaN    Budapest XVI.   \n",
       "3           NaN           55.0                  NaN      Budapest X.   \n",
       "4        1181.0           60.0                  NaN  Budapest XVIII.   \n",
       "...         ...            ...                  ...              ...   \n",
       "78534    1063.0           65.0                  NaN     Budapest VI.   \n",
       "78535    1031.0           35.0                  NaN    Budapest III.   \n",
       "78536       NaN           25.0                  NaN    Budapest XIV.   \n",
       "78537    1024.0           40.0                  NaN     Budapest II.   \n",
       "78538    1061.0           55.0                    4     Budapest VI.   \n",
       "\n",
       "      property_condition_type                     property_subtype  \\\n",
       "0                        good                brick flat (for sale)   \n",
       "1                       novel                brick flat (for sale)   \n",
       "2                       novel                brick flat (for sale)   \n",
       "3                        good                brick flat (for sale)   \n",
       "4                     renewed  prefabricated panel flat (for sale)   \n",
       "...                       ...                                  ...   \n",
       "78534         to_be_renovated                brick flat (for sale)   \n",
       "78535            missing_info  prefabricated panel flat (for sale)   \n",
       "78536                    good                brick flat (for sale)   \n",
       "78537                   novel                brick flat (for sale)   \n",
       "78538                   novel                brick flat (for sale)   \n",
       "\n",
       "                             heating_type property_floor  price_created_at  \n",
       "0                        tile stove (gas)              1              23.5  \n",
       "1                   konvection gas burner              2              20.0  \n",
       "2          central heating with own meter              1              22.0  \n",
       "3                         central heating              4              11.0  \n",
       "4                                     NaN              6              10.2  \n",
       "...                                   ...            ...               ...  \n",
       "78534  gas furnace, circulating hot water              1              29.9  \n",
       "78535                                 NaN            NaN              12.9  \n",
       "78536               konvection gas burner   ground floor               9.0  \n",
       "78537  gas furnace, circulating hot water       basement              17.5  \n",
       "78538      central heating with own meter              3              42.9  \n",
       "\n",
       "[78539 rows x 19 columns]"
      ]
     },
     "execution_count": 4,
     "metadata": {},
     "output_type": "execute_result"
    }
   ],
   "source": [
    "random.seed(8594726138)\n",
    "columns = list(df.columns)\n",
    "random.shuffle(columns)\n",
    "df = df[columns]\n",
    "df"
   ]
  },
  {
   "cell_type": "code",
   "execution_count": 5,
   "id": "e1476a74",
   "metadata": {},
   "outputs": [
    {
     "data": {
      "text/plain": [
       "Index(['elevator_type', 'county', 'room_cnt', 'view_type', 'balcony_area',\n",
       "       'garden_access', 'created_at', 'small_room_cnt', 'orientation',\n",
       "       'property_type', 'postcode', 'property_area', 'building_floor_count',\n",
       "       'city', 'property_condition_type', 'property_subtype', 'heating_type',\n",
       "       'property_floor', 'price_created_at'],\n",
       "      dtype='object')"
      ]
     },
     "execution_count": 5,
     "metadata": {},
     "output_type": "execute_result"
    }
   ],
   "source": [
    "df.columns"
   ]
  },
  {
   "cell_type": "code",
   "execution_count": 6,
   "id": "fd04e2bc",
   "metadata": {},
   "outputs": [
    {
     "data": {
      "text/plain": [
       "elevator_type              14151\n",
       "county                         0\n",
       "room_cnt                       0\n",
       "view_type                  35661\n",
       "balcony_area                   0\n",
       "garden_access              61339\n",
       "created_at                     0\n",
       "small_room_cnt                 0\n",
       "orientation                30892\n",
       "property_type                  0\n",
       "postcode                   28954\n",
       "property_area                  0\n",
       "building_floor_count       42110\n",
       "city                         559\n",
       "property_condition_type        0\n",
       "property_subtype            1659\n",
       "heating_type               11306\n",
       "property_floor              3793\n",
       "price_created_at               0\n",
       "dtype: int64"
      ]
     },
     "execution_count": 6,
     "metadata": {},
     "output_type": "execute_result"
    }
   ],
   "source": [
    "df.isna().sum()"
   ]
  },
  {
   "cell_type": "markdown",
   "id": "e6abf4fc",
   "metadata": {},
   "source": [
    "Ennek a módszernek célja az idő dimenzió, és ezzel esetleges trend eliminálása a négyzetméterárból. Órán volt szó arról, hogy az adathalmaz születésének időszakában az ingatlanpiac erősödött, így aki irreálisan magas árat választott, azt a piac előbb-utóbb utolérte. Ez a jelenség rontja a modellünk általánosítóképességét, ezért a hagyományos négyzetméterár helyett egy jelenértékre számított négyzetméterárat számítok ki az órán tanult módon. Ez az érték minden ingatlanra az adathalmaz utolsó napjához arányosít."
   ]
  },
  {
   "cell_type": "code",
   "execution_count": 7,
   "id": "2058e614",
   "metadata": {},
   "outputs": [
    {
     "data": {
      "text/html": [
       "<div>\n",
       "<style scoped>\n",
       "    .dataframe tbody tr th:only-of-type {\n",
       "        vertical-align: middle;\n",
       "    }\n",
       "\n",
       "    .dataframe tbody tr th {\n",
       "        vertical-align: top;\n",
       "    }\n",
       "\n",
       "    .dataframe thead th {\n",
       "        text-align: right;\n",
       "    }\n",
       "</style>\n",
       "<table border=\"1\" class=\"dataframe\">\n",
       "  <thead>\n",
       "    <tr style=\"text-align: right;\">\n",
       "      <th></th>\n",
       "      <th>elevator_type</th>\n",
       "      <th>county</th>\n",
       "      <th>room_cnt</th>\n",
       "      <th>view_type</th>\n",
       "      <th>balcony_area</th>\n",
       "      <th>garden_access</th>\n",
       "      <th>created_at</th>\n",
       "      <th>small_room_cnt</th>\n",
       "      <th>orientation</th>\n",
       "      <th>property_type</th>\n",
       "      <th>...</th>\n",
       "      <th>property_condition_type</th>\n",
       "      <th>property_subtype</th>\n",
       "      <th>heating_type</th>\n",
       "      <th>property_floor</th>\n",
       "      <th>price_created_at</th>\n",
       "      <th>nmAr</th>\n",
       "      <th>datum</th>\n",
       "      <th>daynum</th>\n",
       "      <th>trend_nmAr</th>\n",
       "      <th>jelen_nmAr</th>\n",
       "    </tr>\n",
       "  </thead>\n",
       "  <tbody>\n",
       "    <tr>\n",
       "      <th>0</th>\n",
       "      <td>yes</td>\n",
       "      <td>Budapest</td>\n",
       "      <td>2.0</td>\n",
       "      <td>street view</td>\n",
       "      <td>0.0</td>\n",
       "      <td>NaN</td>\n",
       "      <td>2015-02-09</td>\n",
       "      <td>1.0</td>\n",
       "      <td>NaN</td>\n",
       "      <td>flat</td>\n",
       "      <td>...</td>\n",
       "      <td>good</td>\n",
       "      <td>brick flat (for sale)</td>\n",
       "      <td>tile stove (gas)</td>\n",
       "      <td>1</td>\n",
       "      <td>23.5</td>\n",
       "      <td>361538.461538</td>\n",
       "      <td>2015-02-09</td>\n",
       "      <td>0</td>\n",
       "      <td>311324.872196</td>\n",
       "      <td>527579.077640</td>\n",
       "    </tr>\n",
       "    <tr>\n",
       "      <th>1</th>\n",
       "      <td>yes</td>\n",
       "      <td>Budapest</td>\n",
       "      <td>1.0</td>\n",
       "      <td>street view</td>\n",
       "      <td>0.0</td>\n",
       "      <td>NaN</td>\n",
       "      <td>2015-02-09</td>\n",
       "      <td>1.0</td>\n",
       "      <td>NaN</td>\n",
       "      <td>flat</td>\n",
       "      <td>...</td>\n",
       "      <td>novel</td>\n",
       "      <td>brick flat (for sale)</td>\n",
       "      <td>konvection gas burner</td>\n",
       "      <td>2</td>\n",
       "      <td>20.0</td>\n",
       "      <td>444444.444444</td>\n",
       "      <td>2015-02-09</td>\n",
       "      <td>0</td>\n",
       "      <td>311324.872196</td>\n",
       "      <td>648560.568257</td>\n",
       "    </tr>\n",
       "    <tr>\n",
       "      <th>2</th>\n",
       "      <td>yes</td>\n",
       "      <td>Budapest</td>\n",
       "      <td>2.0</td>\n",
       "      <td>garden view</td>\n",
       "      <td>0.0</td>\n",
       "      <td>NaN</td>\n",
       "      <td>2015-02-09</td>\n",
       "      <td>1.0</td>\n",
       "      <td>NaN</td>\n",
       "      <td>flat</td>\n",
       "      <td>...</td>\n",
       "      <td>novel</td>\n",
       "      <td>brick flat (for sale)</td>\n",
       "      <td>central heating with own meter</td>\n",
       "      <td>1</td>\n",
       "      <td>22.0</td>\n",
       "      <td>366666.666667</td>\n",
       "      <td>2015-02-09</td>\n",
       "      <td>0</td>\n",
       "      <td>311324.872196</td>\n",
       "      <td>535062.468812</td>\n",
       "    </tr>\n",
       "    <tr>\n",
       "      <th>3</th>\n",
       "      <td>none</td>\n",
       "      <td>Budapest</td>\n",
       "      <td>2.0</td>\n",
       "      <td>garden view</td>\n",
       "      <td>4.0</td>\n",
       "      <td>NaN</td>\n",
       "      <td>2015-02-09</td>\n",
       "      <td>0.0</td>\n",
       "      <td>NaN</td>\n",
       "      <td>flat</td>\n",
       "      <td>...</td>\n",
       "      <td>good</td>\n",
       "      <td>brick flat (for sale)</td>\n",
       "      <td>central heating</td>\n",
       "      <td>4</td>\n",
       "      <td>11.0</td>\n",
       "      <td>200000.000000</td>\n",
       "      <td>2015-02-09</td>\n",
       "      <td>0</td>\n",
       "      <td>311324.872196</td>\n",
       "      <td>291852.255716</td>\n",
       "    </tr>\n",
       "    <tr>\n",
       "      <th>4</th>\n",
       "      <td>yes</td>\n",
       "      <td>Budapest</td>\n",
       "      <td>2.0</td>\n",
       "      <td>NaN</td>\n",
       "      <td>3.0</td>\n",
       "      <td>NaN</td>\n",
       "      <td>2015-02-09</td>\n",
       "      <td>1.0</td>\n",
       "      <td>NaN</td>\n",
       "      <td>flat</td>\n",
       "      <td>...</td>\n",
       "      <td>renewed</td>\n",
       "      <td>prefabricated panel flat (for sale)</td>\n",
       "      <td>NaN</td>\n",
       "      <td>6</td>\n",
       "      <td>10.2</td>\n",
       "      <td>170000.000000</td>\n",
       "      <td>2015-02-09</td>\n",
       "      <td>0</td>\n",
       "      <td>311324.872196</td>\n",
       "      <td>248074.417358</td>\n",
       "    </tr>\n",
       "    <tr>\n",
       "      <th>...</th>\n",
       "      <td>...</td>\n",
       "      <td>...</td>\n",
       "      <td>...</td>\n",
       "      <td>...</td>\n",
       "      <td>...</td>\n",
       "      <td>...</td>\n",
       "      <td>...</td>\n",
       "      <td>...</td>\n",
       "      <td>...</td>\n",
       "      <td>...</td>\n",
       "      <td>...</td>\n",
       "      <td>...</td>\n",
       "      <td>...</td>\n",
       "      <td>...</td>\n",
       "      <td>...</td>\n",
       "      <td>...</td>\n",
       "      <td>...</td>\n",
       "      <td>...</td>\n",
       "      <td>...</td>\n",
       "      <td>...</td>\n",
       "      <td>...</td>\n",
       "    </tr>\n",
       "    <tr>\n",
       "      <th>78534</th>\n",
       "      <td>none</td>\n",
       "      <td>Budapest</td>\n",
       "      <td>2.0</td>\n",
       "      <td>NaN</td>\n",
       "      <td>0.0</td>\n",
       "      <td>NaN</td>\n",
       "      <td>2016-08-29</td>\n",
       "      <td>0.0</td>\n",
       "      <td>south</td>\n",
       "      <td>flat</td>\n",
       "      <td>...</td>\n",
       "      <td>to_be_renovated</td>\n",
       "      <td>brick flat (for sale)</td>\n",
       "      <td>gas furnace, circulating hot water</td>\n",
       "      <td>1</td>\n",
       "      <td>29.9</td>\n",
       "      <td>460000.000000</td>\n",
       "      <td>2016-08-29</td>\n",
       "      <td>567</td>\n",
       "      <td>454304.331054</td>\n",
       "      <td>460000.000000</td>\n",
       "    </tr>\n",
       "    <tr>\n",
       "      <th>78535</th>\n",
       "      <td>yes</td>\n",
       "      <td>Budapest</td>\n",
       "      <td>1.0</td>\n",
       "      <td>NaN</td>\n",
       "      <td>0.0</td>\n",
       "      <td>NaN</td>\n",
       "      <td>2016-08-29</td>\n",
       "      <td>0.0</td>\n",
       "      <td>NaN</td>\n",
       "      <td>flat</td>\n",
       "      <td>...</td>\n",
       "      <td>missing_info</td>\n",
       "      <td>prefabricated panel flat (for sale)</td>\n",
       "      <td>NaN</td>\n",
       "      <td>NaN</td>\n",
       "      <td>12.9</td>\n",
       "      <td>368571.428571</td>\n",
       "      <td>2016-08-29</td>\n",
       "      <td>567</td>\n",
       "      <td>454304.331054</td>\n",
       "      <td>368571.428571</td>\n",
       "    </tr>\n",
       "    <tr>\n",
       "      <th>78536</th>\n",
       "      <td>none</td>\n",
       "      <td>Budapest</td>\n",
       "      <td>1.0</td>\n",
       "      <td>NaN</td>\n",
       "      <td>0.0</td>\n",
       "      <td>NaN</td>\n",
       "      <td>2016-08-29</td>\n",
       "      <td>0.0</td>\n",
       "      <td>NaN</td>\n",
       "      <td>flat</td>\n",
       "      <td>...</td>\n",
       "      <td>good</td>\n",
       "      <td>brick flat (for sale)</td>\n",
       "      <td>konvection gas burner</td>\n",
       "      <td>ground floor</td>\n",
       "      <td>9.0</td>\n",
       "      <td>360000.000000</td>\n",
       "      <td>2016-08-29</td>\n",
       "      <td>567</td>\n",
       "      <td>454304.331054</td>\n",
       "      <td>360000.000000</td>\n",
       "    </tr>\n",
       "    <tr>\n",
       "      <th>78537</th>\n",
       "      <td>none</td>\n",
       "      <td>Budapest</td>\n",
       "      <td>1.0</td>\n",
       "      <td>NaN</td>\n",
       "      <td>0.0</td>\n",
       "      <td>NaN</td>\n",
       "      <td>2016-08-29</td>\n",
       "      <td>1.0</td>\n",
       "      <td>east</td>\n",
       "      <td>flat</td>\n",
       "      <td>...</td>\n",
       "      <td>novel</td>\n",
       "      <td>brick flat (for sale)</td>\n",
       "      <td>gas furnace, circulating hot water</td>\n",
       "      <td>basement</td>\n",
       "      <td>17.5</td>\n",
       "      <td>437500.000000</td>\n",
       "      <td>2016-08-29</td>\n",
       "      <td>567</td>\n",
       "      <td>454304.331054</td>\n",
       "      <td>437500.000000</td>\n",
       "    </tr>\n",
       "    <tr>\n",
       "      <th>78538</th>\n",
       "      <td>yes</td>\n",
       "      <td>Budapest</td>\n",
       "      <td>2.0</td>\n",
       "      <td>street view</td>\n",
       "      <td>0.0</td>\n",
       "      <td>NaN</td>\n",
       "      <td>2016-08-29</td>\n",
       "      <td>0.0</td>\n",
       "      <td>east</td>\n",
       "      <td>flat</td>\n",
       "      <td>...</td>\n",
       "      <td>novel</td>\n",
       "      <td>brick flat (for sale)</td>\n",
       "      <td>central heating with own meter</td>\n",
       "      <td>3</td>\n",
       "      <td>42.9</td>\n",
       "      <td>780000.000000</td>\n",
       "      <td>2016-08-29</td>\n",
       "      <td>567</td>\n",
       "      <td>454304.331054</td>\n",
       "      <td>780000.000000</td>\n",
       "    </tr>\n",
       "  </tbody>\n",
       "</table>\n",
       "<p>78539 rows × 24 columns</p>\n",
       "</div>"
      ],
      "text/plain": [
       "      elevator_type    county  room_cnt    view_type  balcony_area  \\\n",
       "0               yes  Budapest       2.0  street view           0.0   \n",
       "1               yes  Budapest       1.0  street view           0.0   \n",
       "2               yes  Budapest       2.0  garden view           0.0   \n",
       "3              none  Budapest       2.0  garden view           4.0   \n",
       "4               yes  Budapest       2.0          NaN           3.0   \n",
       "...             ...       ...       ...          ...           ...   \n",
       "78534          none  Budapest       2.0          NaN           0.0   \n",
       "78535           yes  Budapest       1.0          NaN           0.0   \n",
       "78536          none  Budapest       1.0          NaN           0.0   \n",
       "78537          none  Budapest       1.0          NaN           0.0   \n",
       "78538           yes  Budapest       2.0  street view           0.0   \n",
       "\n",
       "      garden_access  created_at  small_room_cnt orientation property_type  \\\n",
       "0               NaN  2015-02-09             1.0         NaN          flat   \n",
       "1               NaN  2015-02-09             1.0         NaN          flat   \n",
       "2               NaN  2015-02-09             1.0         NaN          flat   \n",
       "3               NaN  2015-02-09             0.0         NaN          flat   \n",
       "4               NaN  2015-02-09             1.0         NaN          flat   \n",
       "...             ...         ...             ...         ...           ...   \n",
       "78534           NaN  2016-08-29             0.0       south          flat   \n",
       "78535           NaN  2016-08-29             0.0         NaN          flat   \n",
       "78536           NaN  2016-08-29             0.0         NaN          flat   \n",
       "78537           NaN  2016-08-29             1.0        east          flat   \n",
       "78538           NaN  2016-08-29             0.0        east          flat   \n",
       "\n",
       "       ...  property_condition_type                     property_subtype  \\\n",
       "0      ...                     good                brick flat (for sale)   \n",
       "1      ...                    novel                brick flat (for sale)   \n",
       "2      ...                    novel                brick flat (for sale)   \n",
       "3      ...                     good                brick flat (for sale)   \n",
       "4      ...                  renewed  prefabricated panel flat (for sale)   \n",
       "...    ...                      ...                                  ...   \n",
       "78534  ...          to_be_renovated                brick flat (for sale)   \n",
       "78535  ...             missing_info  prefabricated panel flat (for sale)   \n",
       "78536  ...                     good                brick flat (for sale)   \n",
       "78537  ...                    novel                brick flat (for sale)   \n",
       "78538  ...                    novel                brick flat (for sale)   \n",
       "\n",
       "                             heating_type property_floor price_created_at  \\\n",
       "0                        tile stove (gas)              1             23.5   \n",
       "1                   konvection gas burner              2             20.0   \n",
       "2          central heating with own meter              1             22.0   \n",
       "3                         central heating              4             11.0   \n",
       "4                                     NaN              6             10.2   \n",
       "...                                   ...            ...              ...   \n",
       "78534  gas furnace, circulating hot water              1             29.9   \n",
       "78535                                 NaN            NaN             12.9   \n",
       "78536               konvection gas burner   ground floor              9.0   \n",
       "78537  gas furnace, circulating hot water       basement             17.5   \n",
       "78538      central heating with own meter              3             42.9   \n",
       "\n",
       "                nmAr      datum daynum     trend_nmAr     jelen_nmAr  \n",
       "0      361538.461538 2015-02-09      0  311324.872196  527579.077640  \n",
       "1      444444.444444 2015-02-09      0  311324.872196  648560.568257  \n",
       "2      366666.666667 2015-02-09      0  311324.872196  535062.468812  \n",
       "3      200000.000000 2015-02-09      0  311324.872196  291852.255716  \n",
       "4      170000.000000 2015-02-09      0  311324.872196  248074.417358  \n",
       "...              ...        ...    ...            ...            ...  \n",
       "78534  460000.000000 2016-08-29    567  454304.331054  460000.000000  \n",
       "78535  368571.428571 2016-08-29    567  454304.331054  368571.428571  \n",
       "78536  360000.000000 2016-08-29    567  454304.331054  360000.000000  \n",
       "78537  437500.000000 2016-08-29    567  454304.331054  437500.000000  \n",
       "78538  780000.000000 2016-08-29    567  454304.331054  780000.000000  \n",
       "\n",
       "[78539 rows x 24 columns]"
      ]
     },
     "execution_count": 7,
     "metadata": {},
     "output_type": "execute_result"
    }
   ],
   "source": [
    "# jelenértékű nmÁr\n",
    "df['nmAr'] = df['price_created_at']*1000000/df['property_area']\n",
    "df['datum'] = pd.to_datetime(df['created_at'])\n",
    "stat = df.groupby('datum', as_index=False).agg({\"nmAr\":\"median\"})\n",
    "df['daynum'] = (df['datum'] - df['datum'].min()).dt.days\n",
    "stat['daynum'] = (stat['datum'] - stat['datum'].min()).dt.days\n",
    "minlinreg = LinearRegression()\n",
    "minlinreg.fit(stat[ ['daynum'] ], stat['nmAr'])\n",
    "stat['trend_nmAr']= minlinreg.predict(stat[['daynum']])\n",
    "del stat['nmAr']\n",
    "del stat['daynum']\n",
    "df = df.merge(stat, on='datum', how='left')\n",
    "df['jelen_nmAr']= df['nmAr']/df['trend_nmAr']* stat['trend_nmAr'].max()\n",
    "df"
   ]
  },
  {
   "cell_type": "markdown",
   "id": "68a993a9",
   "metadata": {},
   "source": [
    "## Transzformációs függvények oszlopsorrendben"
   ]
  },
  {
   "cell_type": "code",
   "execution_count": 8,
   "id": "7ba98f90",
   "metadata": {},
   "outputs": [],
   "source": [
    "def tr_elevator_type(df, input_cols):\n",
    "    df['elevator_type']=df['elevator_type'].apply(lambda x: 1 if str(x)[0]=='y' else 0)\n",
    "    input_cols += ['elevator_type']\n",
    "    return df, input_cols\n",
    "\n",
    "def tr_county(df, input_cols):\n",
    "    #nem rakom bele mert minden érték azonos\n",
    "    return df, input_cols\n",
    "    \n",
    "def tr_room_cnt(df, input_cols):\n",
    "    input_cols += ['room_cnt']\n",
    "    return df, input_cols\n",
    "    \n",
    "def tr_view_type(df, input_cols):\n",
    "    # dummy\n",
    "    view_dummies = pd.get_dummies(df['view_type'], prefix = 'view_type=', drop_first = True)\n",
    "    df = df.merge(view_dummies, left_index = True, right_index = True, how = 'left')\n",
    "    input_cols += list(view_dummies.columns)\n",
    "    return df, input_cols\n",
    "    \n",
    "def tr_balcony_area(df, input_cols):\n",
    "    input_cols += ['balcony_area']\n",
    "    return df, input_cols\n",
    "    \n",
    "def tr_garden_access(df, input_cols):\n",
    "    # dummy\n",
    "    garden_access_dummies = pd.get_dummies(df['garden_access'], prefix = 'garden_access=', drop_first = True)\n",
    "    df = df.merge(garden_access_dummies, left_index = True, right_index = True, how = 'left')\n",
    "    input_cols += list(garden_access_dummies.columns)\n",
    "    return df, input_cols\n",
    "    \n",
    "def tr_created_at(df, input_cols):\n",
    "    df['created_at'] = pd.to_datetime(df['created_at'])\n",
    "    cr_min = df['created_at'].min()\n",
    "    df['created_at'] = (df['created_at'] - cr_min).dt.days\n",
    "    input_cols += ['created_at']\n",
    "    return df, input_cols\n",
    "    \n",
    "def tr_small_room_cnt(df, input_cols):\n",
    "    input_cols += ['small_room_cnt']\n",
    "    return df, input_cols\n",
    "    \n",
    "def tr_orientation_1(df, input_cols):\n",
    "    # dummy\n",
    "    orientation_dummies = pd.get_dummies(df['orientation'], prefix = 'orientation=', drop_first = True)\n",
    "    df = df.merge(orientation_dummies, left_index = True, right_index = True, how = 'left')\n",
    "    input_cols += list(orientation_dummies.columns)\n",
    "    return df, input_cols\n",
    "    \n",
    "def tr_orientation_2(df, input_cols):\n",
    "    # adott?\n",
    "    df['orientation_given'] = df['orientation'].apply(lambda x: 0 if x==NaN else 1)\n",
    "    input_cols += ['orientation_given']\n",
    "    return df, input_cols\n",
    "    \n",
    "def tr_property_type(df, input_cols):\n",
    "    # nem rakom bele mert minden érték azonos\n",
    "    return df, input_cols\n",
    "    \n",
    "def tr_postcode_1(df, input_cols):\n",
    "    df['postcode'] = df['postcode'].fillna(1000)\n",
    "    input_cols += ['postcode']\n",
    "    return df, input_cols\n",
    "    \n",
    "def tr_postcode_2(df, input_cols):\n",
    "    df['postcode'] = df['postcode'].fillna(1000)\n",
    "    df['postcode'].apply(lambda x: x % 1000)\n",
    "    input_cols += ['postcode']\n",
    "    return df, input_cols\n",
    "    \n",
    "def tr_property_area(df, input_cols):\n",
    "    input_cols += ['property_area']\n",
    "    return df, input_cols\n",
    "    \n",
    "def tr_building_floor_count(df, input_cols):\n",
    "    df['building_floor_count'] = df['building_floor_count'].fillna('other')\n",
    "    df['building_floor_count'] = df['building_floor_count'].apply(lambda x: 11 if str(x)[0]=='m' else (0 if str(x)[0]=='o' else x))\n",
    "    input_cols += ['building_floor_count']\n",
    "    return df, input_cols\n",
    "    \n",
    "def tr_city_1(df, input_cols):\n",
    "    # kerület dummy\n",
    "    city_dummies = pd.get_dummies(df['city'], prefix = 'city=', drop_first = True)\n",
    "    df = df.merge(city_dummies, left_index = True, right_index = True, how = 'left')\n",
    "    input_cols += list(city_dummies.columns)\n",
    "    return df, input_cols\n",
    "    \n",
    "def tr_city_2(df, input_cols):\n",
    "    # Buda (0), Pest(1) vagy Csepel (2)?\n",
    "    mapping = {\n",
    "        0:2, 1:0, 2:0, 3:0, 4:1, 5:1, 6:1, 7:1, 8:1, 9:1, 10:1,\n",
    "        11:0, 12:0, 13:1, 14:1, 15:1, 16:1, 17:1, 18:1, 19:1, 20:1,\n",
    "        21:2, 22:0, 23:1\n",
    "    }\n",
    "    df['ker_code']=df['postcode'].fillna(1000).apply(lambda x: int(str(x)[1:3]))\n",
    "    stat = df.groupby('city',as_index=False).agg({'ker_code':'max'}) \n",
    "    stat.iloc[9,1]=10\n",
    "    stat.iloc[12,1]=13\n",
    "    stat.columns=['city','kerulet_sorszam']\n",
    "    df=df.merge(stat,on='city',how='left')\n",
    "    df['kerulet_sorszam']=df['kerulet_sorszam'].fillna(0)\n",
    "    df['kerulet_csoport']=df['kerulet_sorszam'].apply(lambda x: mapping[x])\n",
    "    input_cols += ['kerulet_csoport']\n",
    "    return df, input_cols\n",
    "    \n",
    "def tr_city_3(df, input_cols):\n",
    "    # egyszerű számérték irányítószámból és kerületnevekből\n",
    "    df['ker_code']=df['postcode'].fillna(1000).apply(lambda x: int(str(x)[1:3]))\n",
    "    stat = df.groupby('city',as_index=False).agg({'ker_code':'max'}) \n",
    "    stat.iloc[9,1]=10\n",
    "    stat.iloc[12,1]=13\n",
    "    stat.columns=['city','kerulet_sorszam']\n",
    "    df=df.merge(stat,on='city',how='left')\n",
    "    df['kerulet_sorszam']=df['kerulet_sorszam'].fillna(0)\n",
    "    input_cols += ['kerulet_sorszam']\n",
    "    return df, input_cols\n",
    "    \n",
    "def tr_property_condition_type1(df, input_cols):\n",
    "    # dummy\n",
    "    property_condition_type_dummies = pd.get_dummies(df['property_condition_type'], prefix = 'property_condition_type=', drop_first = True)\n",
    "    df = df.merge(property_condition_type_dummies, left_index = True, right_index = True, how = 'left')\n",
    "    input_cols += list(property_condition_type_dummies.columns)\n",
    "    return df, input_cols\n",
    "    \n",
    "def tr_property_condition_type2(df, input_cols):\n",
    "    mapping = {\n",
    "        'new_construction': 5,\n",
    "        'good': 4,\n",
    "        'novel': 3,\n",
    "        'renewed': 2,\n",
    "        'medium': 1,\n",
    "        'missing_info': 0,\n",
    "        'under_construction': -1,\n",
    "        'can_move_in': -2,\n",
    "        'to_be_renovated': -3\n",
    "    }\n",
    "    df['property_condition_type'] = df['property_condition_type'].apply(lambda x: mapping[x])\n",
    "    input_cols += ['property_condition_type']\n",
    "    return df, input_cols\n",
    "    \n",
    "def tr_property_subtype(df, input_cols):\n",
    "    # dummy\n",
    "    property_subtype_dummies = pd.get_dummies(df['property_subtype'], prefix = 'property_subtype=', drop_first = True)\n",
    "    df = df.merge(property_subtype_dummies, left_index = True, right_index = True, how = 'left')\n",
    "    input_cols += list(property_subtype_dummies.columns)\n",
    "    return df, input_cols\n",
    "    \n",
    "def tr_heating_type_1(df, input_cols):\n",
    "    # dummy\n",
    "    df['heating_type']=df['heating_type'].fillna('other')\n",
    "    heating_dummies = pd.get_dummies(df['heating_type'], prefix = 'heating_type=', drop_first = True)\n",
    "    df = df.merge(heating_dummies, left_index = True, right_index = True, how = 'left')\n",
    "    input_cols += list(heating_dummies.columns)\n",
    "    return df, input_cols\n",
    "    \n",
    "def tr_heating_type_2(df, input_cols):\n",
    "    # mapping gyakoriság alapján\n",
    "    mapping = {\n",
    "        'gas furnace':10,\n",
    "        'fan-coil':9,\n",
    "        'tile stove (gas)':8,\n",
    "        'electric':7,\n",
    "        'central heating':6,\n",
    "        'central heating with own meter':5,\n",
    "        'other':4,\n",
    "        'district heating':3,\n",
    "        'gas furnace, circulating hot water':2,\n",
    "        'konvection gas burner':1\n",
    "    }\n",
    "    df['heating_type']=df['heating_type'].fillna('other')\n",
    "    df['heating_num']=df['heating_type'].apply(lambda x: mapping[x])\n",
    "    input_cols += ['heating_num']\n",
    "    return df, input_cols\n",
    "    \n",
    "def prop_floor(x):\n",
    "    if x == 'ground floor':\n",
    "        return 0\n",
    "    if x == 'mezzanine floor':\n",
    "        return 0.5\n",
    "    if x == '10 plus':\n",
    "        return 11\n",
    "    if x == 'basement':\n",
    "        return -1\n",
    "    return x   \n",
    "\n",
    "def tr_property_floor_1(df, input_cols):\n",
    "    df['property_floor'] = df['property_floor'].fillna(0).apply(lambda x: prop_floor(x))\n",
    "    input_cols += ['property_floor']\n",
    "    return df, input_cols\n",
    "\n",
    "    \n",
    "def tr_property_floor_2(df, input_cols):\n",
    "    # dummy\n",
    "    property_floor_dummies = pd.get_dummies(df['property_floor'], prefix = 'property_floor=', drop_first = True)\n",
    "    df = df.merge(property_floor_dummies, left_index = True, right_index = True, how = 'left')\n",
    "    input_cols += list(property_floor_dummies.columns)\n",
    "    return df, input_cols\n",
    "\n",
    "def tr_price_created_at(df, input_cols):\n",
    "    # ez felesleges, ebből lett a származtatott jelen_nmAr célváltozó\n",
    "    \n",
    "    return df, input_cols\n",
    "    \n",
    "def tr_which_day_1(df, input_cols):\n",
    "    df['created_at'] = pd.to_datetime(df['created_at'])\n",
    "    df['day_of_week'] = df['created_at'].apply(lambda x: x.weekday())\n",
    "    input_cols += ['day_of_week']\n",
    "    return df, input_cols\n",
    "    \n",
    "def tr_which_day_2(df, input_cols):\n",
    "    df['created_at'] = pd.to_datetime(df['created_at'])\n",
    "    df['day_of_week'] = df['created_at'].apply(lambda x: x.weekday())\n",
    "    df['day_of_week'] = df['day_of_week'].apply(lambda x: 1 if x == 5 or x == 6 else 0)\n",
    "    input_cols += ['day_of_week']\n",
    "    return df, input_cols\n"
   ]
  },
  {
   "cell_type": "code",
   "execution_count": 9,
   "id": "d727f496",
   "metadata": {},
   "outputs": [],
   "source": [
    "def mean_absolute_percentage_error(y_true,y_pred):\n",
    "    y_true, y_pred = np.array(y_true), np.array(y_pred)\n",
    "    return np.mean(np.abs((y_true - y_pred)/y_true))\n",
    "\n",
    "mape_scorer = make_scorer(mean_absolute_percentage_error, greater_is_better = False)"
   ]
  },
  {
   "cell_type": "code",
   "execution_count": 10,
   "id": "c040899c",
   "metadata": {},
   "outputs": [],
   "source": [
    "score_lin = []\n",
    "score_gbm = []\n",
    "score_neu = []\n",
    "\n",
    "def learn_step(step_index, df, bemenok, kimeno):\n",
    "    linreg = LinearRegression()\n",
    "    gbm = GradientBoostingRegressor(random_state=42, max_depth=5, n_estimators=100)\n",
    "    neural = MLPRegressor(learning_rate='adaptive', random_state=42, hidden_layer_sizes=(10, 10, 10,), early_stopping=True, max_iter=200)\n",
    "    \n",
    "    g_lin = GridSearchCV(estimator=linreg, param_grid={}, cv=3, scoring=mape_scorer, verbose=1)\n",
    "    g_lin.fit(df[bemenok], df[kimeno])\n",
    "    score_lin.append( [step_index, len(bemenok), g_lin.cv_results_['mean_test_score'][0] ] )\n",
    "    \n",
    "    g_gbm = GridSearchCV(estimator=gbm, param_grid={}, cv=3, scoring=mape_scorer, verbose=1)\n",
    "    g_gbm.fit(df[bemenok], df[kimeno])\n",
    "    score_gbm.append( [step_index, len(bemenok), g_gbm.cv_results_['mean_test_score'][0] ] )\n",
    "\n",
    "    g_neu = GridSearchCV(estimator=neural, param_grid={}, cv=3, scoring=mape_scorer, verbose=3)\n",
    "    g_neu.fit(df[bemenok], df[kimeno])\n",
    "    score_neu.append( [step_index, len(bemenok), g_neu.cv_results_['mean_test_score'][0] ] )\n",
    "    \n",
    "    return g_lin.cv_results_['mean_test_score'][0], g_gbm.cv_results_['mean_test_score'][0], g_neu.cv_results_['mean_test_score'][0]"
   ]
  },
  {
   "cell_type": "markdown",
   "id": "24ed2b14",
   "metadata": {},
   "source": [
    "## Oszlopok egyenkénti hozzáadása és tanítások:"
   ]
  },
  {
   "cell_type": "code",
   "execution_count": 11,
   "id": "9205de2a",
   "metadata": {},
   "outputs": [
    {
     "name": "stdout",
     "output_type": "stream",
     "text": [
      "# 1 elevator_type START\n",
      "['elevator_type']\n",
      "Fitting 3 folds for each of 1 candidates, totalling 3 fits\n",
      "Fitting 3 folds for each of 1 candidates, totalling 3 fits\n",
      "Fitting 3 folds for each of 1 candidates, totalling 3 fits\n",
      "[CV 1/3] END .................................., score=-0.326 total time=  21.0s\n",
      "[CV 2/3] END .................................., score=-0.344 total time=  22.7s\n",
      "[CV 3/3] END .................................., score=-0.326 total time=  28.5s\n",
      "# 1 elevator_type END\n",
      "# 2 county START\n",
      "Fitting 3 folds for each of 1 candidates, totalling 3 fits\n",
      "Fitting 3 folds for each of 1 candidates, totalling 3 fits\n",
      "Fitting 3 folds for each of 1 candidates, totalling 3 fits\n",
      "[CV 1/3] END .................................., score=-0.326 total time=  21.0s\n",
      "[CV 2/3] END .................................., score=-0.344 total time=  22.7s\n",
      "[CV 3/3] END .................................., score=-0.326 total time=  28.3s\n",
      "# 2 county END\n",
      "# 3 room_cnt START\n",
      "Fitting 3 folds for each of 1 candidates, totalling 3 fits\n",
      "Fitting 3 folds for each of 1 candidates, totalling 3 fits\n",
      "Fitting 3 folds for each of 1 candidates, totalling 3 fits\n",
      "[CV 1/3] END .................................., score=-0.325 total time=  22.2s\n",
      "[CV 2/3] END .................................., score=-0.341 total time=  24.7s\n",
      "[CV 3/3] END .................................., score=-0.321 total time=  26.4s\n",
      "# 3 room_cnt END\n",
      "# 4 view_type START\n",
      "Fitting 3 folds for each of 1 candidates, totalling 3 fits\n",
      "Fitting 3 folds for each of 1 candidates, totalling 3 fits\n",
      "Fitting 3 folds for each of 1 candidates, totalling 3 fits\n",
      "[CV 1/3] END .................................., score=-0.321 total time=  20.6s\n",
      "[CV 2/3] END .................................., score=-0.344 total time=  19.9s\n",
      "[CV 3/3] END .................................., score=-0.326 total time=  19.1s\n",
      "# 4 view_type END\n",
      "# 5 balcony_area START\n",
      "Fitting 3 folds for each of 1 candidates, totalling 3 fits\n",
      "Fitting 3 folds for each of 1 candidates, totalling 3 fits\n",
      "Fitting 3 folds for each of 1 candidates, totalling 3 fits\n",
      "[CV 1/3] END .................................., score=-0.312 total time=  59.8s\n",
      "[CV 2/3] END .................................., score=-0.332 total time=  40.6s\n",
      "[CV 3/3] END .................................., score=-0.321 total time=  36.0s\n",
      "# 5 balcony_area END\n",
      "# 6 garden_access START\n",
      "Fitting 3 folds for each of 1 candidates, totalling 3 fits\n",
      "Fitting 3 folds for each of 1 candidates, totalling 3 fits\n",
      "Fitting 3 folds for each of 1 candidates, totalling 3 fits\n",
      "[CV 1/3] END .................................., score=-0.315 total time=  23.9s\n",
      "[CV 2/3] END .................................., score=-0.335 total time=  28.3s\n",
      "[CV 3/3] END .................................., score=-0.322 total time=  21.5s\n",
      "# 6 garden_access END\n",
      "# 7 created_at => which_day 1 START\n",
      "Fitting 3 folds for each of 1 candidates, totalling 3 fits\n",
      "Fitting 3 folds for each of 1 candidates, totalling 3 fits\n",
      "Fitting 3 folds for each of 1 candidates, totalling 3 fits\n",
      "[CV 1/3] END .................................., score=-0.315 total time=  23.3s\n",
      "[CV 2/3] END .................................., score=-0.339 total time=  23.4s\n",
      "[CV 3/3] END .................................., score=-0.322 total time=  24.1s\n",
      "# 7 created_at => which_day 1 END\n",
      "# 7 created_at => which_day 2 START\n",
      "Fitting 3 folds for each of 1 candidates, totalling 3 fits\n",
      "Fitting 3 folds for each of 1 candidates, totalling 3 fits\n",
      "Fitting 3 folds for each of 1 candidates, totalling 3 fits\n",
      "[CV 1/3] END .................................., score=-0.315 total time=  21.9s\n",
      "[CV 2/3] END .................................., score=-0.339 total time=  21.9s\n",
      "[CV 3/3] END .................................., score=-0.321 total time=  22.3s\n",
      "# 7 created_at => which_day 2 END\n",
      "# 8 small_room_cnt START\n",
      "Fitting 3 folds for each of 1 candidates, totalling 3 fits\n",
      "Fitting 3 folds for each of 1 candidates, totalling 3 fits\n",
      "Fitting 3 folds for each of 1 candidates, totalling 3 fits\n",
      "[CV 1/3] END .................................., score=-0.308 total time=  29.0s\n",
      "[CV 2/3] END .................................., score=-0.332 total time=  23.5s\n",
      "[CV 3/3] END .................................., score=-0.313 total time=  21.2s\n",
      "[CV 2/3] END .................................., score=-0.331 total time=  30.8s\n",
      "[CV 3/3] END .................................., score=-0.314 total time=  45.4s\n",
      "# 9 orientation 1 END\n",
      "# 9 orientation 2 START\n",
      "Fitting 3 folds for each of 1 candidates, totalling 3 fits\n",
      "Fitting 3 folds for each of 1 candidates, totalling 3 fits\n",
      "Fitting 3 folds for each of 1 candidates, totalling 3 fits\n",
      "[CV 1/3] END .................................., score=-0.310 total time=  23.4s\n",
      "[CV 2/3] END .................................., score=-0.328 total time=  24.0s\n",
      "[CV 3/3] END .................................., score=-0.315 total time=  25.8s\n",
      "# 9 orientation 2 END\n",
      "# 10 property_type START\n",
      "Fitting 3 folds for each of 1 candidates, totalling 3 fits\n",
      "Fitting 3 folds for each of 1 candidates, totalling 3 fits\n",
      "Fitting 3 folds for each of 1 candidates, totalling 3 fits\n",
      "[CV 1/3] END .................................., score=-0.309 total time=  24.4s\n",
      "[CV 2/3] END .................................., score=-0.331 total time=  30.8s\n",
      "[CV 3/3] END .................................., score=-0.314 total time=  45.3s\n",
      "# 10 property_type END\n",
      "# 11 postcode 1 START\n",
      "Fitting 3 folds for each of 1 candidates, totalling 3 fits\n",
      "Fitting 3 folds for each of 1 candidates, totalling 3 fits\n",
      "Fitting 3 folds for each of 1 candidates, totalling 3 fits\n"
     ]
    },
    {
     "name": "stderr",
     "output_type": "stream",
     "text": [
      "/opt/conda/lib/python3.9/site-packages/sklearn/neural_network/_multilayer_perceptron.py:691: ConvergenceWarning: Stochastic Optimizer: Maximum iterations (200) reached and the optimization hasn't converged yet.\n",
      "  warnings.warn(\n"
     ]
    },
    {
     "name": "stdout",
     "output_type": "stream",
     "text": [
      "[CV 1/3] END .................................., score=-0.329 total time= 1.1min\n"
     ]
    },
    {
     "name": "stderr",
     "output_type": "stream",
     "text": [
      "/opt/conda/lib/python3.9/site-packages/sklearn/neural_network/_multilayer_perceptron.py:691: ConvergenceWarning: Stochastic Optimizer: Maximum iterations (200) reached and the optimization hasn't converged yet.\n",
      "  warnings.warn(\n"
     ]
    },
    {
     "name": "stdout",
     "output_type": "stream",
     "text": [
      "[CV 2/3] END .................................., score=-0.337 total time= 1.1min\n"
     ]
    },
    {
     "name": "stderr",
     "output_type": "stream",
     "text": [
      "/opt/conda/lib/python3.9/site-packages/sklearn/neural_network/_multilayer_perceptron.py:691: ConvergenceWarning: Stochastic Optimizer: Maximum iterations (200) reached and the optimization hasn't converged yet.\n",
      "  warnings.warn(\n"
     ]
    },
    {
     "name": "stdout",
     "output_type": "stream",
     "text": [
      "[CV 3/3] END .................................., score=-0.325 total time= 1.1min\n"
     ]
    },
    {
     "name": "stderr",
     "output_type": "stream",
     "text": [
      "/opt/conda/lib/python3.9/site-packages/sklearn/neural_network/_multilayer_perceptron.py:691: ConvergenceWarning: Stochastic Optimizer: Maximum iterations (200) reached and the optimization hasn't converged yet.\n",
      "  warnings.warn(\n"
     ]
    },
    {
     "name": "stdout",
     "output_type": "stream",
     "text": [
      "# 11 postcode 1 END\n",
      "# 11 postcode 2 START\n",
      "Fitting 3 folds for each of 1 candidates, totalling 3 fits\n",
      "Fitting 3 folds for each of 1 candidates, totalling 3 fits\n",
      "Fitting 3 folds for each of 1 candidates, totalling 3 fits\n"
     ]
    },
    {
     "name": "stderr",
     "output_type": "stream",
     "text": [
      "/opt/conda/lib/python3.9/site-packages/sklearn/neural_network/_multilayer_perceptron.py:691: ConvergenceWarning: Stochastic Optimizer: Maximum iterations (200) reached and the optimization hasn't converged yet.\n",
      "  warnings.warn(\n"
     ]
    },
    {
     "name": "stdout",
     "output_type": "stream",
     "text": [
      "[CV 1/3] END .................................., score=-0.329 total time= 1.1min\n"
     ]
    },
    {
     "name": "stderr",
     "output_type": "stream",
     "text": [
      "/opt/conda/lib/python3.9/site-packages/sklearn/neural_network/_multilayer_perceptron.py:691: ConvergenceWarning: Stochastic Optimizer: Maximum iterations (200) reached and the optimization hasn't converged yet.\n",
      "  warnings.warn(\n"
     ]
    },
    {
     "name": "stdout",
     "output_type": "stream",
     "text": [
      "[CV 2/3] END .................................., score=-0.337 total time= 1.1min\n"
     ]
    },
    {
     "name": "stderr",
     "output_type": "stream",
     "text": [
      "/opt/conda/lib/python3.9/site-packages/sklearn/neural_network/_multilayer_perceptron.py:691: ConvergenceWarning: Stochastic Optimizer: Maximum iterations (200) reached and the optimization hasn't converged yet.\n",
      "  warnings.warn(\n"
     ]
    },
    {
     "name": "stdout",
     "output_type": "stream",
     "text": [
      "[CV 3/3] END .................................., score=-0.325 total time= 1.1min\n"
     ]
    },
    {
     "name": "stderr",
     "output_type": "stream",
     "text": [
      "/opt/conda/lib/python3.9/site-packages/sklearn/neural_network/_multilayer_perceptron.py:691: ConvergenceWarning: Stochastic Optimizer: Maximum iterations (200) reached and the optimization hasn't converged yet.\n",
      "  warnings.warn(\n"
     ]
    },
    {
     "name": "stdout",
     "output_type": "stream",
     "text": [
      "# 11 postcode 2 END\n",
      "# 12 property_area START\n",
      "Fitting 3 folds for each of 1 candidates, totalling 3 fits\n",
      "Fitting 3 folds for each of 1 candidates, totalling 3 fits\n",
      "Fitting 3 folds for each of 1 candidates, totalling 3 fits\n",
      "[CV 1/3] END .................................., score=-0.318 total time= 1.1min\n"
     ]
    },
    {
     "name": "stderr",
     "output_type": "stream",
     "text": [
      "/opt/conda/lib/python3.9/site-packages/sklearn/neural_network/_multilayer_perceptron.py:691: ConvergenceWarning: Stochastic Optimizer: Maximum iterations (200) reached and the optimization hasn't converged yet.\n",
      "  warnings.warn(\n"
     ]
    },
    {
     "name": "stdout",
     "output_type": "stream",
     "text": [
      "[CV 2/3] END .................................., score=-0.336 total time= 1.2min\n"
     ]
    },
    {
     "name": "stderr",
     "output_type": "stream",
     "text": [
      "/opt/conda/lib/python3.9/site-packages/sklearn/neural_network/_multilayer_perceptron.py:691: ConvergenceWarning: Stochastic Optimizer: Maximum iterations (200) reached and the optimization hasn't converged yet.\n",
      "  warnings.warn(\n"
     ]
    },
    {
     "name": "stdout",
     "output_type": "stream",
     "text": [
      "[CV 3/3] END .................................., score=-0.319 total time= 1.2min\n"
     ]
    },
    {
     "name": "stderr",
     "output_type": "stream",
     "text": [
      "/opt/conda/lib/python3.9/site-packages/sklearn/neural_network/_multilayer_perceptron.py:691: ConvergenceWarning: Stochastic Optimizer: Maximum iterations (200) reached and the optimization hasn't converged yet.\n",
      "  warnings.warn(\n"
     ]
    },
    {
     "name": "stdout",
     "output_type": "stream",
     "text": [
      "# 12 property_area END\n",
      "# 13 building_floor_count START\n",
      "Fitting 3 folds for each of 1 candidates, totalling 3 fits\n",
      "Fitting 3 folds for each of 1 candidates, totalling 3 fits\n",
      "Fitting 3 folds for each of 1 candidates, totalling 3 fits\n"
     ]
    },
    {
     "name": "stderr",
     "output_type": "stream",
     "text": [
      "/opt/conda/lib/python3.9/site-packages/sklearn/neural_network/_multilayer_perceptron.py:691: ConvergenceWarning: Stochastic Optimizer: Maximum iterations (200) reached and the optimization hasn't converged yet.\n",
      "  warnings.warn(\n"
     ]
    },
    {
     "name": "stdout",
     "output_type": "stream",
     "text": [
      "[CV 1/3] END .................................., score=-0.322 total time= 1.4min\n"
     ]
    },
    {
     "name": "stderr",
     "output_type": "stream",
     "text": [
      "/opt/conda/lib/python3.9/site-packages/sklearn/neural_network/_multilayer_perceptron.py:691: ConvergenceWarning: Stochastic Optimizer: Maximum iterations (200) reached and the optimization hasn't converged yet.\n",
      "  warnings.warn(\n"
     ]
    },
    {
     "name": "stdout",
     "output_type": "stream",
     "text": [
      "[CV 2/3] END .................................., score=-0.329 total time= 1.5min\n"
     ]
    },
    {
     "name": "stderr",
     "output_type": "stream",
     "text": [
      "/opt/conda/lib/python3.9/site-packages/sklearn/neural_network/_multilayer_perceptron.py:691: ConvergenceWarning: Stochastic Optimizer: Maximum iterations (200) reached and the optimization hasn't converged yet.\n",
      "  warnings.warn(\n"
     ]
    },
    {
     "name": "stdout",
     "output_type": "stream",
     "text": [
      "[CV 3/3] END .................................., score=-0.310 total time= 1.5min\n"
     ]
    },
    {
     "name": "stderr",
     "output_type": "stream",
     "text": [
      "/opt/conda/lib/python3.9/site-packages/sklearn/neural_network/_multilayer_perceptron.py:691: ConvergenceWarning: Stochastic Optimizer: Maximum iterations (200) reached and the optimization hasn't converged yet.\n",
      "  warnings.warn(\n"
     ]
    },
    {
     "name": "stdout",
     "output_type": "stream",
     "text": [
      "# 13 building_floor_count END\n",
      "# 14 city 1 START\n",
      "Fitting 3 folds for each of 1 candidates, totalling 3 fits\n",
      "Fitting 3 folds for each of 1 candidates, totalling 3 fits\n",
      "Fitting 3 folds for each of 1 candidates, totalling 3 fits\n"
     ]
    },
    {
     "name": "stderr",
     "output_type": "stream",
     "text": [
      "/opt/conda/lib/python3.9/site-packages/sklearn/neural_network/_multilayer_perceptron.py:691: ConvergenceWarning: Stochastic Optimizer: Maximum iterations (200) reached and the optimization hasn't converged yet.\n",
      "  warnings.warn(\n"
     ]
    },
    {
     "name": "stdout",
     "output_type": "stream",
     "text": [
      "[CV 1/3] END .................................., score=-0.222 total time= 1.4min\n"
     ]
    },
    {
     "name": "stderr",
     "output_type": "stream",
     "text": [
      "/opt/conda/lib/python3.9/site-packages/sklearn/neural_network/_multilayer_perceptron.py:691: ConvergenceWarning: Stochastic Optimizer: Maximum iterations (200) reached and the optimization hasn't converged yet.\n",
      "  warnings.warn(\n"
     ]
    },
    {
     "name": "stdout",
     "output_type": "stream",
     "text": [
      "[CV 2/3] END .................................., score=-0.212 total time= 1.6min\n"
     ]
    },
    {
     "name": "stderr",
     "output_type": "stream",
     "text": [
      "/opt/conda/lib/python3.9/site-packages/sklearn/neural_network/_multilayer_perceptron.py:691: ConvergenceWarning: Stochastic Optimizer: Maximum iterations (200) reached and the optimization hasn't converged yet.\n",
      "  warnings.warn(\n"
     ]
    },
    {
     "name": "stdout",
     "output_type": "stream",
     "text": [
      "[CV 3/3] END .................................., score=-0.204 total time= 1.4min\n"
     ]
    },
    {
     "name": "stderr",
     "output_type": "stream",
     "text": [
      "/opt/conda/lib/python3.9/site-packages/sklearn/neural_network/_multilayer_perceptron.py:691: ConvergenceWarning: Stochastic Optimizer: Maximum iterations (200) reached and the optimization hasn't converged yet.\n",
      "  warnings.warn(\n"
     ]
    },
    {
     "name": "stdout",
     "output_type": "stream",
     "text": [
      "# 14 city 1 END\n",
      "# 14 city 2 START\n",
      "Fitting 3 folds for each of 1 candidates, totalling 3 fits\n",
      "Fitting 3 folds for each of 1 candidates, totalling 3 fits\n",
      "Fitting 3 folds for each of 1 candidates, totalling 3 fits\n"
     ]
    },
    {
     "name": "stderr",
     "output_type": "stream",
     "text": [
      "/opt/conda/lib/python3.9/site-packages/sklearn/neural_network/_multilayer_perceptron.py:691: ConvergenceWarning: Stochastic Optimizer: Maximum iterations (200) reached and the optimization hasn't converged yet.\n",
      "  warnings.warn(\n"
     ]
    },
    {
     "name": "stdout",
     "output_type": "stream",
     "text": [
      "[CV 1/3] END .................................., score=-0.309 total time= 1.6min\n"
     ]
    },
    {
     "name": "stderr",
     "output_type": "stream",
     "text": [
      "/opt/conda/lib/python3.9/site-packages/sklearn/neural_network/_multilayer_perceptron.py:691: ConvergenceWarning: Stochastic Optimizer: Maximum iterations (200) reached and the optimization hasn't converged yet.\n",
      "  warnings.warn(\n"
     ]
    },
    {
     "name": "stdout",
     "output_type": "stream",
     "text": [
      "[CV 2/3] END .................................., score=-0.310 total time= 1.7min\n"
     ]
    },
    {
     "name": "stderr",
     "output_type": "stream",
     "text": [
      "/opt/conda/lib/python3.9/site-packages/sklearn/neural_network/_multilayer_perceptron.py:691: ConvergenceWarning: Stochastic Optimizer: Maximum iterations (200) reached and the optimization hasn't converged yet.\n",
      "  warnings.warn(\n"
     ]
    },
    {
     "name": "stdout",
     "output_type": "stream",
     "text": [
      "[CV 3/3] END .................................., score=-0.300 total time= 1.7min\n"
     ]
    },
    {
     "name": "stderr",
     "output_type": "stream",
     "text": [
      "/opt/conda/lib/python3.9/site-packages/sklearn/neural_network/_multilayer_perceptron.py:691: ConvergenceWarning: Stochastic Optimizer: Maximum iterations (200) reached and the optimization hasn't converged yet.\n",
      "  warnings.warn(\n"
     ]
    },
    {
     "name": "stdout",
     "output_type": "stream",
     "text": [
      "# 14 city 2 END\n",
      "# 14 city 3 START\n",
      "Fitting 3 folds for each of 1 candidates, totalling 3 fits\n",
      "Fitting 3 folds for each of 1 candidates, totalling 3 fits\n",
      "Fitting 3 folds for each of 1 candidates, totalling 3 fits\n"
     ]
    },
    {
     "name": "stderr",
     "output_type": "stream",
     "text": [
      "/opt/conda/lib/python3.9/site-packages/sklearn/neural_network/_multilayer_perceptron.py:691: ConvergenceWarning: Stochastic Optimizer: Maximum iterations (200) reached and the optimization hasn't converged yet.\n",
      "  warnings.warn(\n"
     ]
    },
    {
     "name": "stdout",
     "output_type": "stream",
     "text": [
      "[CV 1/3] END .................................., score=-0.309 total time= 2.8min\n"
     ]
    },
    {
     "name": "stderr",
     "output_type": "stream",
     "text": [
      "/opt/conda/lib/python3.9/site-packages/sklearn/neural_network/_multilayer_perceptron.py:691: ConvergenceWarning: Stochastic Optimizer: Maximum iterations (200) reached and the optimization hasn't converged yet.\n",
      "  warnings.warn(\n"
     ]
    },
    {
     "name": "stdout",
     "output_type": "stream",
     "text": [
      "[CV 2/3] END .................................., score=-0.310 total time= 2.1min\n"
     ]
    },
    {
     "name": "stderr",
     "output_type": "stream",
     "text": [
      "/opt/conda/lib/python3.9/site-packages/sklearn/neural_network/_multilayer_perceptron.py:691: ConvergenceWarning: Stochastic Optimizer: Maximum iterations (200) reached and the optimization hasn't converged yet.\n",
      "  warnings.warn(\n"
     ]
    },
    {
     "name": "stdout",
     "output_type": "stream",
     "text": [
      "[CV 3/3] END .................................., score=-0.300 total time= 1.2min\n"
     ]
    },
    {
     "name": "stderr",
     "output_type": "stream",
     "text": [
      "/opt/conda/lib/python3.9/site-packages/sklearn/neural_network/_multilayer_perceptron.py:691: ConvergenceWarning: Stochastic Optimizer: Maximum iterations (200) reached and the optimization hasn't converged yet.\n",
      "  warnings.warn(\n"
     ]
    },
    {
     "name": "stdout",
     "output_type": "stream",
     "text": [
      "# 14 city 3 END\n",
      "# 15 property_condition_type 1 START\n",
      "Fitting 3 folds for each of 1 candidates, totalling 3 fits\n",
      "Fitting 3 folds for each of 1 candidates, totalling 3 fits\n",
      "Fitting 3 folds for each of 1 candidates, totalling 3 fits\n"
     ]
    },
    {
     "name": "stderr",
     "output_type": "stream",
     "text": [
      "/opt/conda/lib/python3.9/site-packages/sklearn/neural_network/_multilayer_perceptron.py:691: ConvergenceWarning: Stochastic Optimizer: Maximum iterations (200) reached and the optimization hasn't converged yet.\n",
      "  warnings.warn(\n"
     ]
    },
    {
     "name": "stdout",
     "output_type": "stream",
     "text": [
      "[CV 1/3] END .................................., score=-0.202 total time= 1.4min\n"
     ]
    },
    {
     "name": "stderr",
     "output_type": "stream",
     "text": [
      "/opt/conda/lib/python3.9/site-packages/sklearn/neural_network/_multilayer_perceptron.py:691: ConvergenceWarning: Stochastic Optimizer: Maximum iterations (200) reached and the optimization hasn't converged yet.\n",
      "  warnings.warn(\n"
     ]
    },
    {
     "name": "stdout",
     "output_type": "stream",
     "text": [
      "[CV 2/3] END .................................., score=-0.191 total time= 1.4min\n"
     ]
    },
    {
     "name": "stderr",
     "output_type": "stream",
     "text": [
      "/opt/conda/lib/python3.9/site-packages/sklearn/neural_network/_multilayer_perceptron.py:691: ConvergenceWarning: Stochastic Optimizer: Maximum iterations (200) reached and the optimization hasn't converged yet.\n",
      "  warnings.warn(\n"
     ]
    },
    {
     "name": "stdout",
     "output_type": "stream",
     "text": [
      "[CV 3/3] END .................................., score=-0.186 total time= 1.4min\n"
     ]
    },
    {
     "name": "stderr",
     "output_type": "stream",
     "text": [
      "/opt/conda/lib/python3.9/site-packages/sklearn/neural_network/_multilayer_perceptron.py:691: ConvergenceWarning: Stochastic Optimizer: Maximum iterations (200) reached and the optimization hasn't converged yet.\n",
      "  warnings.warn(\n"
     ]
    },
    {
     "name": "stdout",
     "output_type": "stream",
     "text": [
      "# 15 property_condition_type 1 END\n",
      "# 15 property_condition_type 2 START\n",
      "Fitting 3 folds for each of 1 candidates, totalling 3 fits\n",
      "Fitting 3 folds for each of 1 candidates, totalling 3 fits\n",
      "Fitting 3 folds for each of 1 candidates, totalling 3 fits\n"
     ]
    },
    {
     "name": "stderr",
     "output_type": "stream",
     "text": [
      "/opt/conda/lib/python3.9/site-packages/sklearn/neural_network/_multilayer_perceptron.py:691: ConvergenceWarning: Stochastic Optimizer: Maximum iterations (200) reached and the optimization hasn't converged yet.\n",
      "  warnings.warn(\n"
     ]
    },
    {
     "name": "stdout",
     "output_type": "stream",
     "text": [
      "[CV 1/3] END .................................., score=-0.215 total time= 1.5min\n"
     ]
    },
    {
     "name": "stderr",
     "output_type": "stream",
     "text": [
      "/opt/conda/lib/python3.9/site-packages/sklearn/neural_network/_multilayer_perceptron.py:691: ConvergenceWarning: Stochastic Optimizer: Maximum iterations (200) reached and the optimization hasn't converged yet.\n",
      "  warnings.warn(\n"
     ]
    },
    {
     "name": "stdout",
     "output_type": "stream",
     "text": [
      "[CV 2/3] END .................................., score=-0.207 total time= 1.5min\n"
     ]
    },
    {
     "name": "stderr",
     "output_type": "stream",
     "text": [
      "/opt/conda/lib/python3.9/site-packages/sklearn/neural_network/_multilayer_perceptron.py:691: ConvergenceWarning: Stochastic Optimizer: Maximum iterations (200) reached and the optimization hasn't converged yet.\n",
      "  warnings.warn(\n"
     ]
    },
    {
     "name": "stdout",
     "output_type": "stream",
     "text": [
      "[CV 3/3] END .................................., score=-0.199 total time= 1.5min\n"
     ]
    },
    {
     "name": "stderr",
     "output_type": "stream",
     "text": [
      "/opt/conda/lib/python3.9/site-packages/sklearn/neural_network/_multilayer_perceptron.py:691: ConvergenceWarning: Stochastic Optimizer: Maximum iterations (200) reached and the optimization hasn't converged yet.\n",
      "  warnings.warn(\n"
     ]
    },
    {
     "name": "stdout",
     "output_type": "stream",
     "text": [
      "# 15 property_condition_type 2 END\n",
      "# 16 property_subtype START\n",
      "Fitting 3 folds for each of 1 candidates, totalling 3 fits\n",
      "Fitting 3 folds for each of 1 candidates, totalling 3 fits\n",
      "Fitting 3 folds for each of 1 candidates, totalling 3 fits\n"
     ]
    },
    {
     "name": "stderr",
     "output_type": "stream",
     "text": [
      "/opt/conda/lib/python3.9/site-packages/sklearn/neural_network/_multilayer_perceptron.py:691: ConvergenceWarning: Stochastic Optimizer: Maximum iterations (200) reached and the optimization hasn't converged yet.\n",
      "  warnings.warn(\n"
     ]
    },
    {
     "name": "stdout",
     "output_type": "stream",
     "text": [
      "[CV 1/3] END .................................., score=-0.182 total time= 3.0min\n"
     ]
    },
    {
     "name": "stderr",
     "output_type": "stream",
     "text": [
      "/opt/conda/lib/python3.9/site-packages/sklearn/neural_network/_multilayer_perceptron.py:691: ConvergenceWarning: Stochastic Optimizer: Maximum iterations (200) reached and the optimization hasn't converged yet.\n",
      "  warnings.warn(\n"
     ]
    },
    {
     "name": "stdout",
     "output_type": "stream",
     "text": [
      "[CV 2/3] END .................................., score=-0.174 total time= 2.5min\n"
     ]
    },
    {
     "name": "stderr",
     "output_type": "stream",
     "text": [
      "/opt/conda/lib/python3.9/site-packages/sklearn/neural_network/_multilayer_perceptron.py:691: ConvergenceWarning: Stochastic Optimizer: Maximum iterations (200) reached and the optimization hasn't converged yet.\n",
      "  warnings.warn(\n"
     ]
    },
    {
     "name": "stdout",
     "output_type": "stream",
     "text": [
      "[CV 3/3] END .................................., score=-0.170 total time= 2.6min\n",
      "# 16 property_subtype END\n",
      "# 17 heating_type 1 START\n",
      "Fitting 3 folds for each of 1 candidates, totalling 3 fits\n",
      "Fitting 3 folds for each of 1 candidates, totalling 3 fits\n",
      "Fitting 3 folds for each of 1 candidates, totalling 3 fits\n"
     ]
    },
    {
     "name": "stderr",
     "output_type": "stream",
     "text": [
      "/opt/conda/lib/python3.9/site-packages/sklearn/neural_network/_multilayer_perceptron.py:691: ConvergenceWarning: Stochastic Optimizer: Maximum iterations (200) reached and the optimization hasn't converged yet.\n",
      "  warnings.warn(\n"
     ]
    },
    {
     "name": "stdout",
     "output_type": "stream",
     "text": [
      "[CV 1/3] END .................................., score=-0.183 total time= 2.8min\n"
     ]
    },
    {
     "name": "stderr",
     "output_type": "stream",
     "text": [
      "/opt/conda/lib/python3.9/site-packages/sklearn/neural_network/_multilayer_perceptron.py:691: ConvergenceWarning: Stochastic Optimizer: Maximum iterations (200) reached and the optimization hasn't converged yet.\n",
      "  warnings.warn(\n"
     ]
    },
    {
     "name": "stdout",
     "output_type": "stream",
     "text": [
      "[CV 2/3] END .................................., score=-0.177 total time= 2.4min\n"
     ]
    },
    {
     "name": "stderr",
     "output_type": "stream",
     "text": [
      "/opt/conda/lib/python3.9/site-packages/sklearn/neural_network/_multilayer_perceptron.py:691: ConvergenceWarning: Stochastic Optimizer: Maximum iterations (200) reached and the optimization hasn't converged yet.\n",
      "  warnings.warn(\n"
     ]
    },
    {
     "name": "stdout",
     "output_type": "stream",
     "text": [
      "[CV 3/3] END .................................., score=-0.171 total time= 3.0min\n",
      "Fitting 3 folds for each of 1 candidates, totalling 3 fits\n"
     ]
    },
    {
     "name": "stderr",
     "output_type": "stream",
     "text": [
      "/opt/conda/lib/python3.9/site-packages/sklearn/neural_network/_multilayer_perceptron.py:691: ConvergenceWarning: Stochastic Optimizer: Maximum iterations (200) reached and the optimization hasn't converged yet.\n",
      "  warnings.warn(\n"
     ]
    },
    {
     "name": "stdout",
     "output_type": "stream",
     "text": [
      "[CV 1/3] END .................................., score=-0.189 total time= 2.4min\n"
     ]
    },
    {
     "name": "stderr",
     "output_type": "stream",
     "text": [
      "/opt/conda/lib/python3.9/site-packages/sklearn/neural_network/_multilayer_perceptron.py:691: ConvergenceWarning: Stochastic Optimizer: Maximum iterations (200) reached and the optimization hasn't converged yet.\n",
      "  warnings.warn(\n"
     ]
    },
    {
     "name": "stdout",
     "output_type": "stream",
     "text": [
      "[CV 2/3] END .................................., score=-0.188 total time= 2.6min\n"
     ]
    },
    {
     "name": "stderr",
     "output_type": "stream",
     "text": [
      "/opt/conda/lib/python3.9/site-packages/sklearn/neural_network/_multilayer_perceptron.py:691: ConvergenceWarning: Stochastic Optimizer: Maximum iterations (200) reached and the optimization hasn't converged yet.\n",
      "  warnings.warn(\n"
     ]
    },
    {
     "name": "stdout",
     "output_type": "stream",
     "text": [
      "[CV 3/3] END .................................., score=-0.175 total time= 2.4min\n"
     ]
    },
    {
     "name": "stderr",
     "output_type": "stream",
     "text": [
      "/opt/conda/lib/python3.9/site-packages/sklearn/neural_network/_multilayer_perceptron.py:691: ConvergenceWarning: Stochastic Optimizer: Maximum iterations (200) reached and the optimization hasn't converged yet.\n",
      "  warnings.warn(\n"
     ]
    },
    {
     "name": "stdout",
     "output_type": "stream",
     "text": [
      "# 17 heating_type 2 END\n",
      "# 18 property_floor 1 START\n",
      "Fitting 3 folds for each of 1 candidates, totalling 3 fits\n",
      "Fitting 3 folds for each of 1 candidates, totalling 3 fits\n",
      "Fitting 3 folds for each of 1 candidates, totalling 3 fits\n"
     ]
    },
    {
     "name": "stderr",
     "output_type": "stream",
     "text": [
      "/opt/conda/lib/python3.9/site-packages/sklearn/neural_network/_multilayer_perceptron.py:691: ConvergenceWarning: Stochastic Optimizer: Maximum iterations (200) reached and the optimization hasn't converged yet.\n",
      "  warnings.warn(\n"
     ]
    },
    {
     "name": "stdout",
     "output_type": "stream",
     "text": [
      "[CV 1/3] END .................................., score=-0.186 total time= 1.5min\n"
     ]
    },
    {
     "name": "stderr",
     "output_type": "stream",
     "text": [
      "/opt/conda/lib/python3.9/site-packages/sklearn/neural_network/_multilayer_perceptron.py:691: ConvergenceWarning: Stochastic Optimizer: Maximum iterations (200) reached and the optimization hasn't converged yet.\n",
      "  warnings.warn(\n"
     ]
    },
    {
     "name": "stdout",
     "output_type": "stream",
     "text": [
      "[CV 2/3] END .................................., score=-0.176 total time= 1.3min\n"
     ]
    },
    {
     "name": "stderr",
     "output_type": "stream",
     "text": [
      "/opt/conda/lib/python3.9/site-packages/sklearn/neural_network/_multilayer_perceptron.py:691: ConvergenceWarning: Stochastic Optimizer: Maximum iterations (200) reached and the optimization hasn't converged yet.\n",
      "  warnings.warn(\n"
     ]
    },
    {
     "name": "stdout",
     "output_type": "stream",
     "text": [
      "[CV 3/3] END .................................., score=-0.168 total time= 1.5min\n"
     ]
    },
    {
     "name": "stderr",
     "output_type": "stream",
     "text": [
      "/opt/conda/lib/python3.9/site-packages/sklearn/neural_network/_multilayer_perceptron.py:691: ConvergenceWarning: Stochastic Optimizer: Maximum iterations (200) reached and the optimization hasn't converged yet.\n",
      "  warnings.warn(\n"
     ]
    },
    {
     "name": "stdout",
     "output_type": "stream",
     "text": [
      "# 18 property_floor 1 END\n",
      "# 18 property_floor 2 START\n",
      "Fitting 3 folds for each of 1 candidates, totalling 3 fits\n",
      "Fitting 3 folds for each of 1 candidates, totalling 3 fits\n",
      "Fitting 3 folds for each of 1 candidates, totalling 3 fits\n"
     ]
    },
    {
     "name": "stderr",
     "output_type": "stream",
     "text": [
      "/opt/conda/lib/python3.9/site-packages/sklearn/neural_network/_multilayer_perceptron.py:691: ConvergenceWarning: Stochastic Optimizer: Maximum iterations (200) reached and the optimization hasn't converged yet.\n",
      "  warnings.warn(\n"
     ]
    },
    {
     "name": "stdout",
     "output_type": "stream",
     "text": [
      "[CV 1/3] END .................................., score=-0.177 total time= 1.9min\n"
     ]
    },
    {
     "name": "stderr",
     "output_type": "stream",
     "text": [
      "/opt/conda/lib/python3.9/site-packages/sklearn/neural_network/_multilayer_perceptron.py:691: ConvergenceWarning: Stochastic Optimizer: Maximum iterations (200) reached and the optimization hasn't converged yet.\n",
      "  warnings.warn(\n"
     ]
    },
    {
     "name": "stdout",
     "output_type": "stream",
     "text": [
      "[CV 2/3] END .................................., score=-0.177 total time= 1.9min\n"
     ]
    },
    {
     "name": "stderr",
     "output_type": "stream",
     "text": [
      "/opt/conda/lib/python3.9/site-packages/sklearn/neural_network/_multilayer_perceptron.py:691: ConvergenceWarning: Stochastic Optimizer: Maximum iterations (200) reached and the optimization hasn't converged yet.\n",
      "  warnings.warn(\n"
     ]
    },
    {
     "name": "stdout",
     "output_type": "stream",
     "text": [
      "[CV 3/3] END .................................., score=-0.164 total time= 2.7min\n",
      "# 18 property_floor 2 END\n"
     ]
    },
    {
     "name": "stderr",
     "output_type": "stream",
     "text": [
      "/opt/conda/lib/python3.9/site-packages/sklearn/neural_network/_multilayer_perceptron.py:691: ConvergenceWarning: Stochastic Optimizer: Maximum iterations (200) reached and the optimization hasn't converged yet.\n",
      "  warnings.warn(\n"
     ]
    }
   ],
   "source": [
    "bemenok = []\n",
    "kimeno = 'jelen_nmAr'\n",
    "\n",
    "\n",
    "# 1 elevator_type\n",
    "print('# 1 elevator_type START')\n",
    "df, bemenok = tr_elevator_type(df, bemenok)\n",
    "print(bemenok)\n",
    "learn_step(1, df, bemenok, kimeno)\n",
    "print('# 1 elevator_type END')\n",
    "\n",
    "# 2 county\n",
    "print('# 2 county START')\n",
    "df, bemenok = tr_county(df, bemenok)\n",
    "learn_step(2, df, bemenok, kimeno)\n",
    "print('# 2 county END')\n",
    "\n",
    "# 3 room_cnt\n",
    "print('# 3 room_cnt START')\n",
    "df, bemenok = tr_room_cnt(df, bemenok)\n",
    "learn_step(3, df, bemenok, kimeno)\n",
    "print('# 3 room_cnt END')\n",
    "\n",
    "# 4 view_type\n",
    "print('# 4 view_type START')\n",
    "df, bemenok = tr_view_type(df, bemenok)\n",
    "learn_step(4, df, bemenok, kimeno)\n",
    "print('# 4 view_type END')\n",
    "\n",
    "# 5 balcony_area\n",
    "print('# 5 balcony_area START')\n",
    "df, bemenok = tr_balcony_area(df, bemenok)\n",
    "learn_step(5, df, bemenok, kimeno)\n",
    "print('# 5 balcony_area END')\n",
    "\n",
    "# 6 garden_access\n",
    "print('# 6 garden_access START')\n",
    "df, bemenok = tr_garden_access(df, bemenok)\n",
    "learn_step(6, df, bemenok, kimeno)\n",
    "print('# 6 garden_access END')\n",
    "\n",
    "\n",
    "df_created_at_1 = df.copy()\n",
    "df_created_at_2 = df.copy()\n",
    "bem1 = bemenok.copy()\n",
    "bem2 = bemenok.copy()\n",
    "# 7 created_at 1\n",
    "print('# 7 created_at => which_day 1 START')\n",
    "df_created_at_1, bem1 = tr_which_day_1(df_created_at_1, bem1)\n",
    "_,__, res1 = learn_step(7, df_created_at_1, bem1, kimeno)\n",
    "print('# 7 created_at => which_day 1 END')\n",
    "\n",
    "# 7 created_at 2\n",
    "print('# 7 created_at => which_day 2 START')\n",
    "df_created_at_2, bem2 = tr_which_day_2(df_created_at_2, bem2)\n",
    "_,__, res2 = learn_step(7, df_created_at_2, bem2, kimeno)\n",
    "print('# 7 created_at => which_day 2 END')\n",
    "if (res1 > res2):\n",
    "    df = df_created_at_1\n",
    "    bemenok = bem1\n",
    "else:\n",
    "    df = df_created_at_2\n",
    "    bemenok = bem2\n",
    "\n",
    "\n",
    "# 8 small_room_cnt\n",
    "print('# 8 small_room_cnt START')\n",
    "df, bemenok = tr_small_room_cnt(df, bemenok)\n",
    "learn_step(8, df, bemenok, kimeno)\n",
    "print('# 8 small_room_cnt END')\n",
    "\n",
    "\n",
    "df_orientation_1 = df.copy()\n",
    "df_orientation_2 = df.copy()\n",
    "bem1 = bemenok.copy()\n",
    "bem2 = bemenok.copy()\n",
    "# 9 orientation 1\n",
    "print('# 9 orientation 1 START')\n",
    "df_orientation_1, bem1 = tr_which_day_1(df_orientation_1, bem1)\n",
    "_,__, res1 = learn_step(9, df_orientation_1, bem1, kimeno)\n",
    "print('# 9 orientation 1 END')\n",
    "\n",
    "# 9 orientation 2\n",
    "print('# 9 orientation 2 START')\n",
    "df_orientation_2, bem2 = tr_which_day_2(df_orientation_2, bem2)\n",
    "_,__, res2 = learn_step(9, df_orientation_2, bem2, kimeno)\n",
    "print('# 9 orientation 2 END')\n",
    "if (res1 > res2):\n",
    "    df = df_orientation_1\n",
    "    bemenok = bem1\n",
    "else:\n",
    "    df = df_orientation_2\n",
    "    bemenok = bem2\n",
    "\n",
    "\n",
    "# 10 property_type\n",
    "print('# 10 property_type START')\n",
    "df, bemenok = tr_property_type(df, bemenok)\n",
    "learn_step(10, df, bemenok, kimeno)\n",
    "print('# 10 property_type END')\n",
    "\n",
    "\n",
    "df_postcode_1 = df.copy()\n",
    "df_postcode_2 = df.copy()\n",
    "bem1 = bemenok.copy()\n",
    "bem2 = bemenok.copy()\n",
    "# 11 postcode 1\n",
    "print('# 11 postcode 1 START')\n",
    "df_postcode_1, bem1 = tr_postcode_1(df_postcode_1, bem1)\n",
    "_,__, res1 = learn_step(11, df_postcode_1, bem1, kimeno)\n",
    "print('# 11 postcode 1 END')\n",
    "\n",
    "# 11 postcode 2\n",
    "print('# 11 postcode 2 START')\n",
    "df_postcode_2, bem2 = tr_postcode_2(df_postcode_2, bem2)\n",
    "_,__, res2 = learn_step(11, df_postcode_2, bem2, kimeno)\n",
    "print('# 11 postcode 2 END')\n",
    "if (res1 > res2):\n",
    "    df = df_postcode_1\n",
    "    bemenok = bem1\n",
    "else:\n",
    "    df = df_postcode_2\n",
    "    bemenok = bem2\n",
    "\n",
    "# 12 property_area\n",
    "print('# 12 property_area START')\n",
    "df, bemenok = tr_property_area(df, bemenok)\n",
    "learn_step(12, df, bemenok, kimeno)\n",
    "print('# 12 property_area END')\n",
    "\n",
    "# 13 building_floor_count\n",
    "print('# 13 building_floor_count START')\n",
    "df, bemenok = tr_building_floor_count(df, bemenok)\n",
    "learn_step(13, df, bemenok, kimeno)\n",
    "print('# 13 building_floor_count END')\n",
    "\n",
    "\n",
    "df_city_1 = df.copy()\n",
    "df_city_2 = df.copy()\n",
    "df_city_3 = df.copy()\n",
    "bem1 = bemenok.copy()\n",
    "bem2 = bemenok.copy()\n",
    "bem3 = bemenok.copy()\n",
    "# 14 city 1\n",
    "print('# 14 city 1 START')\n",
    "df_city_1, bem1 = tr_city_1(df_city_1, bem1)\n",
    "_,__, res1 = learn_step(14, df_city_1, bem1, kimeno)\n",
    "print('# 14 city 1 END')\n",
    "\n",
    "# 14 city 2\n",
    "print('# 14 city 2 START')\n",
    "df_city_2, bem2 = tr_city_2(df_city_2, bem2)\n",
    "_,__, res2 = learn_step(14, df_city_2, bem2, kimeno)\n",
    "print('# 14 city 2 END')\n",
    "\n",
    "# 14 city 3\n",
    "print('# 14 city 3 START')\n",
    "df_city_3, bem3 = tr_city_2(df_city_3, bem3)\n",
    "_,__, res3 = learn_step(14, df_city_3, bem3, kimeno)\n",
    "print('# 14 city 3 END')\n",
    "if (res1 > res2):\n",
    "    if(res1 > res3):\n",
    "        df = df_city_1\n",
    "        bemenok = bem1\n",
    "elif (res2 > res3):\n",
    "    df = df_city_2\n",
    "    bemenok = bem2\n",
    "else:\n",
    "    df = df_city_3\n",
    "    bemenok = bem3\n",
    "\n",
    "\n",
    "df_pct_1 = df.copy()\n",
    "df_pct_2 = df.copy()\n",
    "bem1 = bemenok.copy()\n",
    "bem2 = bemenok.copy()\n",
    "# 15 property_condition_type 1\n",
    "print('# 15 property_condition_type 1 START')\n",
    "df_pct_1, bem1 = tr_property_condition_type1(df_pct_1, bem1)\n",
    "_,__, res1 = learn_step(15, df_pct_1, bem1, kimeno)\n",
    "print('# 15 property_condition_type 1 END')\n",
    "\n",
    "# 15 property_condition_type 2\n",
    "print('# 15 property_condition_type 2 START')\n",
    "df_pct_2, bem2 = tr_property_condition_type2(df_pct_2, bem2)\n",
    "_,__, res2 = learn_step(15, df_pct_2, bem2, kimeno)\n",
    "print('# 15 property_condition_type 2 END')\n",
    "if (res1 > res2):\n",
    "    df = df_pct_1\n",
    "    bemenok = bem1\n",
    "else:\n",
    "    df = df_pct_2\n",
    "    bemenok = bem2\n",
    "\n",
    "# 16 property_subtype\n",
    "print('# 16 property_subtype START')\n",
    "df, bemenok = tr_property_subtype(df, bemenok)\n",
    "learn_step(16, df, bemenok, kimeno)\n",
    "print('# 16 property_subtype END')\n",
    "\n",
    "\n",
    "df_heating_1 = df.copy()\n",
    "df_heating_2 = df.copy()\n",
    "bem1 = bemenok.copy()\n",
    "bem2 = bemenok.copy()\n",
    "# 17 heating_type 1\n",
    "print('# 17 heating_type 1 START')\n",
    "df_heating_1, bem1 = tr_heating_type_1(df_heating_1, bem1)\n",
    "_,__, res1 = learn_step(17, df_heating_1, bem1, kimeno)\n",
    "print('# 17 heating_type 1 END')\n",
    "\n",
    "# 17 heating_type 2\n",
    "print('# 17 heating_type 2 START')\n",
    "df_heating_2, bem2 = tr_heating_type_2(df_heating_2, bem2)\n",
    "_,__, res2 = learn_step(17, df_heating_2, bem2, kimeno)\n",
    "print('# 17 heating_type 2 END')\n",
    "if (res1 > res2):\n",
    "    df = df_heating_1\n",
    "    bemenok = bem1\n",
    "else:\n",
    "    df = df_heating_2\n",
    "    bemenok = bem2\n",
    "\n",
    "# 18 property_floor\n",
    "df_pfloor_1 = df.copy()\n",
    "df_pfloor_2 = df.copy()\n",
    "bem1 = bemenok.copy()\n",
    "bem2 = bemenok.copy()\n",
    "# 18 property_floor 1\n",
    "print('# 18 property_floor 1 START')\n",
    "df_pfloor_1, bem1 = tr_property_floor_1(df_pfloor_1, bem1)\n",
    "_,_, res1 = learn_step(18, df_pfloor_1, bem1, kimeno)\n",
    "print('# 18 property_floor 1 END')\n",
    "\n",
    "# 18 property_floor 2\n",
    "print('# 18 property_floor 2 START')\n",
    "df_pfloor_2, bem2 = tr_property_floor_2(df_pfloor_2, bem2)\n",
    "_,_, res2 = learn_step(18, df_pfloor_2, bem2, kimeno)\n",
    "print('# 18 property_floor 2 END')\n",
    "if (res1 > res2):\n",
    "    df = df_pfloor_1\n",
    "    bemenok = bem1\n",
    "else:\n",
    "    df = df_pfloor_2\n",
    "    bemenok = bem2"
   ]
  },
  {
   "cell_type": "code",
   "execution_count": 12,
   "id": "bd0297a4",
   "metadata": {},
   "outputs": [],
   "source": [
    "def filter_and_find_largest(data):\n",
    "    grouped_data = collections.defaultdict(list)\n",
    "\n",
    "    for item in data:\n",
    "        first_element = item[0]\n",
    "        third_element = item[2]\n",
    "        grouped_data[first_element].append((third_element, item))\n",
    "\n",
    "    filtered_data = []\n",
    "\n",
    "    for key, group in grouped_data.items():\n",
    "        max_element = max(group, key=lambda x: x[0])\n",
    "        filtered_data.append(max_element[1])\n",
    "\n",
    "    filtered_data.sort(key=lambda x: x[0])\n",
    "\n",
    "    return filtered_data"
   ]
  },
  {
   "cell_type": "code",
   "execution_count": 17,
   "id": "83be1124",
   "metadata": {},
   "outputs": [
    {
     "data": {
      "image/png": "[encoded data removed]",
      "text/plain": [
       "<Figure size 432x288 with 1 Axes>"
      ]
     },
     "metadata": {
      "needs_background": "light"
     },
     "output_type": "display_data"
    }
   ],
   "source": [
    "score_lin = filter_and_find_largest(score_lin)\n",
    "score_gbm = filter_and_find_largest(score_gbm)\n",
    "score_neu = filter_and_find_largest(score_neu)\n",
    "\n",
    "with open(\"score_lin.txt\", \"w\") as file:\n",
    "    file.write(str(score_lin))\n",
    "\n",
    "with open(\"score_gbm.txt\", \"w\") as file:\n",
    "    file.write(str(score_gbm))\n",
    "\n",
    "with open(\"score_neu.txt\", \"w\") as file:\n",
    "    file.write(str(score_neu))\n",
    "\n",
    "\n",
    "x_values1 = [point[0] for point in score_lin]\n",
    "y_values1 = [point[2] for point in score_lin]\n",
    "\n",
    "x_values2 = [point[0] for point in score_gbm]\n",
    "y_values2 = [point[2] for point in score_gbm]\n",
    "\n",
    "x_values3 = [point[0] for point in score_neu]\n",
    "y_values3 = [point[2] for point in score_neu]\n",
    "\n",
    "# Create a scatter plot for each dataset\n",
    "plt.xticks(np.arange(min(x_values1), max(x_values1)+1, 1.0))\n",
    "plt.plot(x_values1, y_values1, label='LinearRegression', linestyle='-')\n",
    "plt.plot(x_values2, y_values2, label='GradientBoostingRegressor', linestyle='-')\n",
    "plt.plot(x_values3, y_values3, label='MLPRegressor', linestyle='-')\n",
    "\n",
    "# Label the axes\n",
    "plt.xlabel('Num of added columns')\n",
    "plt.ylabel('Loss')\n",
    "\n",
    "plt.legend()\n",
    "plt.show()"
   ]
  },
  {
   "cell_type": "markdown",
   "id": "d284bf30",
   "metadata": {},
   "source": [
    "A táblázatban látható a loss-ok alakulása az újabb és újabb oszlopok hozzáadásával, modellenként külön-külön.\n",
    "A paraméterek hozzáadásával általában nő a modellek pontossága. (Kivétel volt ezazlól az MLPRegressor, ami két esetben is gyengébb eredményt hozott új paraméter hozzáadásakor: irányítószámok, fűtéstípus)\n",
    "\n",
    "A 11. paraméter hozzáadásával a GradientBoostigRegressor nagyot javult, ez az irányítószámok hozzáadása volt.\n",
    "A másik két modell a 14. paraméternél, a kerület hozzáadásakor javult sokat.\n",
    "\n",
    "A legjobban teljesítő modell a GradientBoostigRegressor lett, de a különbségek nem nagyok."
   ]
  },
  {
   "cell_type": "markdown",
   "id": "0f1743af",
   "metadata": {},
   "source": [
    "## Végső adatelemzési folyamat"
   ]
  },
  {
   "cell_type": "code",
   "execution_count": 27,
   "id": "6d7300d8",
   "metadata": {},
   "outputs": [],
   "source": [
    "df_final = df.copy()\n",
    "bemenok_final = bemenok.copy()"
   ]
  },
  {
   "cell_type": "code",
   "execution_count": 26,
   "id": "866ddb22",
   "metadata": {},
   "outputs": [],
   "source": [
    "pd.set_option('display.max_columns', None)\n"
   ]
  },
  {
   "cell_type": "code",
   "execution_count": 28,
   "id": "b1852e94",
   "metadata": {},
   "outputs": [
    {
     "name": "stdout",
     "output_type": "stream",
     "text": [
      "Fitting 3 folds for each of 12 candidates, totalling 36 fits\n",
      "[CV 1/3] END ....max_depth=4, n_estimators=100;, score=-0.165 total time=  18.7s\n",
      "[CV 2/3] END ....max_depth=4, n_estimators=100;, score=-0.161 total time=  18.0s\n",
      "[CV 3/3] END ....max_depth=4, n_estimators=100;, score=-0.152 total time=  18.4s\n",
      "[CV 1/3] END ....max_depth=4, n_estimators=150;, score=-0.158 total time=  25.2s\n",
      "[CV 2/3] END ....max_depth=4, n_estimators=150;, score=-0.154 total time=  26.3s\n",
      "[CV 3/3] END ....max_depth=4, n_estimators=150;, score=-0.146 total time=  26.9s\n",
      "[CV 1/3] END ....max_depth=4, n_estimators=200;, score=-0.155 total time=  35.5s\n",
      "[CV 2/3] END ....max_depth=4, n_estimators=200;, score=-0.150 total time=  35.4s\n",
      "[CV 3/3] END ....max_depth=4, n_estimators=200;, score=-0.143 total time=  34.2s\n",
      "[CV 1/3] END ....max_depth=5, n_estimators=100;, score=-0.160 total time=  21.8s\n",
      "[CV 2/3] END ....max_depth=5, n_estimators=100;, score=-0.154 total time=  22.5s\n",
      "[CV 3/3] END ....max_depth=5, n_estimators=100;, score=-0.146 total time=  22.0s\n",
      "[CV 1/3] END ....max_depth=5, n_estimators=150;, score=-0.154 total time=  33.8s\n",
      "[CV 2/3] END ....max_depth=5, n_estimators=150;, score=-0.147 total time=  33.1s\n",
      "[CV 3/3] END ....max_depth=5, n_estimators=150;, score=-0.141 total time=  32.7s\n",
      "[CV 1/3] END ....max_depth=5, n_estimators=200;, score=-0.150 total time=  46.0s\n",
      "[CV 2/3] END ....max_depth=5, n_estimators=200;, score=-0.144 total time=  44.4s\n",
      "[CV 3/3] END ....max_depth=5, n_estimators=200;, score=-0.138 total time=  39.9s\n",
      "[CV 1/3] END ....max_depth=6, n_estimators=100;, score=-0.154 total time=  23.5s\n",
      "[CV 2/3] END ....max_depth=6, n_estimators=100;, score=-0.148 total time=  22.8s\n",
      "[CV 3/3] END ....max_depth=6, n_estimators=100;, score=-0.142 total time=  22.7s\n",
      "[CV 1/3] END ....max_depth=6, n_estimators=150;, score=-0.150 total time=  33.7s\n",
      "[CV 2/3] END ....max_depth=6, n_estimators=150;, score=-0.143 total time=  34.0s\n",
      "[CV 3/3] END ....max_depth=6, n_estimators=150;, score=-0.137 total time=  33.8s\n",
      "[CV 1/3] END ....max_depth=6, n_estimators=200;, score=-0.147 total time=  46.2s\n",
      "[CV 2/3] END ....max_depth=6, n_estimators=200;, score=-0.140 total time=  46.5s\n",
      "[CV 3/3] END ....max_depth=6, n_estimators=200;, score=-0.136 total time=  44.9s\n",
      "[CV 1/3] END ....max_depth=7, n_estimators=100;, score=-0.152 total time=  26.3s\n",
      "[CV 2/3] END ....max_depth=7, n_estimators=100;, score=-0.144 total time=  26.6s\n",
      "[CV 3/3] END ....max_depth=7, n_estimators=100;, score=-0.139 total time=  26.3s\n",
      "[CV 1/3] END ....max_depth=7, n_estimators=150;, score=-0.148 total time=  45.5s\n",
      "[CV 2/3] END ....max_depth=7, n_estimators=150;, score=-0.140 total time=  46.7s\n",
      "[CV 3/3] END ....max_depth=7, n_estimators=150;, score=-0.135 total time=  43.1s\n",
      "[CV 1/3] END ....max_depth=7, n_estimators=200;, score=-0.147 total time=  52.0s\n",
      "[CV 2/3] END ....max_depth=7, n_estimators=200;, score=-0.138 total time=  52.3s\n",
      "[CV 3/3] END ....max_depth=7, n_estimators=200;, score=-0.134 total time=  52.6s\n"
     ]
    },
    {
     "data": {
      "text/html": [
       "<style>#sk-container-id-1 {color: black;}#sk-container-id-1 pre{padding: 0;}#sk-container-id-1 div.sk-toggleable {background-color: white;}#sk-container-id-1 label.sk-toggleable__label {cursor: pointer;display: block;width: 100%;margin-bottom: 0;padding: 0.3em;box-sizing: border-box;text-align: center;}#sk-container-id-1 label.sk-toggleable__label-arrow:before {content: \"▸\";float: left;margin-right: 0.25em;color: #696969;}#sk-container-id-1 label.sk-toggleable__label-arrow:hover:before {color: black;}#sk-container-id-1 div.sk-estimator:hover label.sk-toggleable__label-arrow:before {color: black;}#sk-container-id-1 div.sk-toggleable__content {max-height: 0;max-width: 0;overflow: hidden;text-align: left;background-color: #f0f8ff;}#sk-container-id-1 div.sk-toggleable__content pre {margin: 0.2em;color: black;border-radius: 0.25em;background-color: #f0f8ff;}#sk-container-id-1 input.sk-toggleable__control:checked~div.sk-toggleable__content {max-height: 200px;max-width: 100%;overflow: auto;}#sk-container-id-1 input.sk-toggleable__control:checked~label.sk-toggleable__label-arrow:before {content: \"▾\";}#sk-container-id-1 div.sk-estimator input.sk-toggleable__control:checked~label.sk-toggleable__label {background-color: #d4ebff;}#sk-container-id-1 div.sk-label input.sk-toggleable__control:checked~label.sk-toggleable__label {background-color: #d4ebff;}#sk-container-id-1 input.sk-hidden--visually {border: 0;clip: rect(1px 1px 1px 1px);clip: rect(1px, 1px, 1px, 1px);height: 1px;margin: -1px;overflow: hidden;padding: 0;position: absolute;width: 1px;}#sk-container-id-1 div.sk-estimator {font-family: monospace;background-color: #f0f8ff;border: 1px dotted black;border-radius: 0.25em;box-sizing: border-box;margin-bottom: 0.5em;}#sk-container-id-1 div.sk-estimator:hover {background-color: #d4ebff;}#sk-container-id-1 div.sk-parallel-item::after {content: \"\";width: 100%;border-bottom: 1px solid gray;flex-grow: 1;}#sk-container-id-1 div.sk-label:hover label.sk-toggleable__label {background-color: #d4ebff;}#sk-container-id-1 div.sk-serial::before {content: \"\";position: absolute;border-left: 1px solid gray;box-sizing: border-box;top: 0;bottom: 0;left: 50%;z-index: 0;}#sk-container-id-1 div.sk-serial {display: flex;flex-direction: column;align-items: center;background-color: white;padding-right: 0.2em;padding-left: 0.2em;position: relative;}#sk-container-id-1 div.sk-item {position: relative;z-index: 1;}#sk-container-id-1 div.sk-parallel {display: flex;align-items: stretch;justify-content: center;background-color: white;position: relative;}#sk-container-id-1 div.sk-item::before, #sk-container-id-1 div.sk-parallel-item::before {content: \"\";position: absolute;border-left: 1px solid gray;box-sizing: border-box;top: 0;bottom: 0;left: 50%;z-index: -1;}#sk-container-id-1 div.sk-parallel-item {display: flex;flex-direction: column;z-index: 1;position: relative;background-color: white;}#sk-container-id-1 div.sk-parallel-item:first-child::after {align-self: flex-end;width: 50%;}#sk-container-id-1 div.sk-parallel-item:last-child::after {align-self: flex-start;width: 50%;}#sk-container-id-1 div.sk-parallel-item:only-child::after {width: 0;}#sk-container-id-1 div.sk-dashed-wrapped {border: 1px dashed gray;margin: 0 0.4em 0.5em 0.4em;box-sizing: border-box;padding-bottom: 0.4em;background-color: white;}#sk-container-id-1 div.sk-label label {font-family: monospace;font-weight: bold;display: inline-block;line-height: 1.2em;}#sk-container-id-1 div.sk-label-container {text-align: center;}#sk-container-id-1 div.sk-container {/* jupyter's `normalize.less` sets `[hidden] { display: none; }` but bootstrap.min.css set `[hidden] { display: none !important; }` so we also need the `!important` here to be able to override the default hidden behavior on the sphinx rendered scikit-learn.org. See: https://github.com/scikit-learn/scikit-learn/issues/21755 */display: inline-block !important;position: relative;}#sk-container-id-1 div.sk-text-repr-fallback {display: none;}</style><div id=\"sk-container-id-1\" class=\"sk-top-container\"><div class=\"sk-text-repr-fallback\"><pre>GridSearchCV(cv=3, estimator=GradientBoostingRegressor(random_state=42),\n",
       "             param_grid={&#x27;max_depth&#x27;: [4, 5, 6, 7],\n",
       "                         &#x27;n_estimators&#x27;: [100, 150, 200]},\n",
       "             scoring=make_scorer(mean_absolute_percentage_error, greater_is_better=False),\n",
       "             verbose=3)</pre><b>In a Jupyter environment, please rerun this cell to show the HTML representation or trust the notebook. <br />On GitHub, the HTML representation is unable to render, please try loading this page with nbviewer.org.</b></div><div class=\"sk-container\" hidden><div class=\"sk-item sk-dashed-wrapped\"><div class=\"sk-label-container\"><div class=\"sk-label sk-toggleable\"><input class=\"sk-toggleable__control sk-hidden--visually\" id=\"sk-estimator-id-1\" type=\"checkbox\" ><label for=\"sk-estimator-id-1\" class=\"sk-toggleable__label sk-toggleable__label-arrow\">GridSearchCV</label><div class=\"sk-toggleable__content\"><pre>GridSearchCV(cv=3, estimator=GradientBoostingRegressor(random_state=42),\n",
       "             param_grid={&#x27;max_depth&#x27;: [4, 5, 6, 7],\n",
       "                         &#x27;n_estimators&#x27;: [100, 150, 200]},\n",
       "             scoring=make_scorer(mean_absolute_percentage_error, greater_is_better=False),\n",
       "             verbose=3)</pre></div></div></div><div class=\"sk-parallel\"><div class=\"sk-parallel-item\"><div class=\"sk-item\"><div class=\"sk-label-container\"><div class=\"sk-label sk-toggleable\"><input class=\"sk-toggleable__control sk-hidden--visually\" id=\"sk-estimator-id-2\" type=\"checkbox\" ><label for=\"sk-estimator-id-2\" class=\"sk-toggleable__label sk-toggleable__label-arrow\">estimator: GradientBoostingRegressor</label><div class=\"sk-toggleable__content\"><pre>GradientBoostingRegressor(random_state=42)</pre></div></div></div><div class=\"sk-serial\"><div class=\"sk-item\"><div class=\"sk-estimator sk-toggleable\"><input class=\"sk-toggleable__control sk-hidden--visually\" id=\"sk-estimator-id-3\" type=\"checkbox\" ><label for=\"sk-estimator-id-3\" class=\"sk-toggleable__label sk-toggleable__label-arrow\">GradientBoostingRegressor</label><div class=\"sk-toggleable__content\"><pre>GradientBoostingRegressor(random_state=42)</pre></div></div></div></div></div></div></div></div></div></div>"
      ],
      "text/plain": [
       "GridSearchCV(cv=3, estimator=GradientBoostingRegressor(random_state=42),\n",
       "             param_grid={'max_depth': [4, 5, 6, 7],\n",
       "                         'n_estimators': [100, 150, 200]},\n",
       "             scoring=make_scorer(mean_absolute_percentage_error, greater_is_better=False),\n",
       "             verbose=3)"
      ]
     },
     "execution_count": 28,
     "metadata": {},
     "output_type": "execute_result"
    }
   ],
   "source": [
    "p_grid = {\n",
    "    'max_depth': [4,5,6,7],\n",
    "    'n_estimators': [100, 150, 200]\n",
    "}\n",
    "g_final = GridSearchCV(\n",
    "    estimator=GradientBoostingRegressor(random_state=42), \n",
    "    param_grid=p_grid, \n",
    "    cv=3, scoring=mape_scorer, \n",
    "    verbose=3\n",
    ")\n",
    "g_final.fit(df_final[bemenok_final], df_final[kimeno])"
   ]
  },
  {
   "cell_type": "code",
   "execution_count": 39,
   "id": "a5451fae",
   "metadata": {},
   "outputs": [
    {
     "data": {
      "text/html": [
       "<style>#sk-container-id-6 {color: black;}#sk-container-id-6 pre{padding: 0;}#sk-container-id-6 div.sk-toggleable {background-color: white;}#sk-container-id-6 label.sk-toggleable__label {cursor: pointer;display: block;width: 100%;margin-bottom: 0;padding: 0.3em;box-sizing: border-box;text-align: center;}#sk-container-id-6 label.sk-toggleable__label-arrow:before {content: \"▸\";float: left;margin-right: 0.25em;color: #696969;}#sk-container-id-6 label.sk-toggleable__label-arrow:hover:before {color: black;}#sk-container-id-6 div.sk-estimator:hover label.sk-toggleable__label-arrow:before {color: black;}#sk-container-id-6 div.sk-toggleable__content {max-height: 0;max-width: 0;overflow: hidden;text-align: left;background-color: #f0f8ff;}#sk-container-id-6 div.sk-toggleable__content pre {margin: 0.2em;color: black;border-radius: 0.25em;background-color: #f0f8ff;}#sk-container-id-6 input.sk-toggleable__control:checked~div.sk-toggleable__content {max-height: 200px;max-width: 100%;overflow: auto;}#sk-container-id-6 input.sk-toggleable__control:checked~label.sk-toggleable__label-arrow:before {content: \"▾\";}#sk-container-id-6 div.sk-estimator input.sk-toggleable__control:checked~label.sk-toggleable__label {background-color: #d4ebff;}#sk-container-id-6 div.sk-label input.sk-toggleable__control:checked~label.sk-toggleable__label {background-color: #d4ebff;}#sk-container-id-6 input.sk-hidden--visually {border: 0;clip: rect(1px 1px 1px 1px);clip: rect(1px, 1px, 1px, 1px);height: 1px;margin: -1px;overflow: hidden;padding: 0;position: absolute;width: 1px;}#sk-container-id-6 div.sk-estimator {font-family: monospace;background-color: #f0f8ff;border: 1px dotted black;border-radius: 0.25em;box-sizing: border-box;margin-bottom: 0.5em;}#sk-container-id-6 div.sk-estimator:hover {background-color: #d4ebff;}#sk-container-id-6 div.sk-parallel-item::after {content: \"\";width: 100%;border-bottom: 1px solid gray;flex-grow: 1;}#sk-container-id-6 div.sk-label:hover label.sk-toggleable__label {background-color: #d4ebff;}#sk-container-id-6 div.sk-serial::before {content: \"\";position: absolute;border-left: 1px solid gray;box-sizing: border-box;top: 0;bottom: 0;left: 50%;z-index: 0;}#sk-container-id-6 div.sk-serial {display: flex;flex-direction: column;align-items: center;background-color: white;padding-right: 0.2em;padding-left: 0.2em;position: relative;}#sk-container-id-6 div.sk-item {position: relative;z-index: 1;}#sk-container-id-6 div.sk-parallel {display: flex;align-items: stretch;justify-content: center;background-color: white;position: relative;}#sk-container-id-6 div.sk-item::before, #sk-container-id-6 div.sk-parallel-item::before {content: \"\";position: absolute;border-left: 1px solid gray;box-sizing: border-box;top: 0;bottom: 0;left: 50%;z-index: -1;}#sk-container-id-6 div.sk-parallel-item {display: flex;flex-direction: column;z-index: 1;position: relative;background-color: white;}#sk-container-id-6 div.sk-parallel-item:first-child::after {align-self: flex-end;width: 50%;}#sk-container-id-6 div.sk-parallel-item:last-child::after {align-self: flex-start;width: 50%;}#sk-container-id-6 div.sk-parallel-item:only-child::after {width: 0;}#sk-container-id-6 div.sk-dashed-wrapped {border: 1px dashed gray;margin: 0 0.4em 0.5em 0.4em;box-sizing: border-box;padding-bottom: 0.4em;background-color: white;}#sk-container-id-6 div.sk-label label {font-family: monospace;font-weight: bold;display: inline-block;line-height: 1.2em;}#sk-container-id-6 div.sk-label-container {text-align: center;}#sk-container-id-6 div.sk-container {/* jupyter's `normalize.less` sets `[hidden] { display: none; }` but bootstrap.min.css set `[hidden] { display: none !important; }` so we also need the `!important` here to be able to override the default hidden behavior on the sphinx rendered scikit-learn.org. See: https://github.com/scikit-learn/scikit-learn/issues/21755 */display: inline-block !important;position: relative;}#sk-container-id-6 div.sk-text-repr-fallback {display: none;}</style><div id=\"sk-container-id-6\" class=\"sk-top-container\"><div class=\"sk-text-repr-fallback\"><pre>GradientBoostingRegressor(max_depth=7, n_estimators=200, random_state=42)</pre><b>In a Jupyter environment, please rerun this cell to show the HTML representation or trust the notebook. <br />On GitHub, the HTML representation is unable to render, please try loading this page with nbviewer.org.</b></div><div class=\"sk-container\" hidden><div class=\"sk-item\"><div class=\"sk-estimator sk-toggleable\"><input class=\"sk-toggleable__control sk-hidden--visually\" id=\"sk-estimator-id-8\" type=\"checkbox\" checked><label for=\"sk-estimator-id-8\" class=\"sk-toggleable__label sk-toggleable__label-arrow\">GradientBoostingRegressor</label><div class=\"sk-toggleable__content\"><pre>GradientBoostingRegressor(max_depth=7, n_estimators=200, random_state=42)</pre></div></div></div></div></div>"
      ],
      "text/plain": [
       "GradientBoostingRegressor(max_depth=7, n_estimators=200, random_state=42)"
      ]
     },
     "execution_count": 39,
     "metadata": {},
     "output_type": "execute_result"
    }
   ],
   "source": [
    "best = g_final.best_estimator_\n",
    "type(best)\n",
    "g_final.best_estimator_"
   ]
  },
  {
   "cell_type": "markdown",
   "id": "713b9abc",
   "metadata": {},
   "source": [
    "A legjobb modell a vizsgáltak közül:\n",
    "GradientBoostingRegressor(max_depth=7, n_estimators=200, random_state=42)"
   ]
  },
  {
   "cell_type": "code",
   "execution_count": 40,
   "id": "179db271",
   "metadata": {},
   "outputs": [],
   "source": [
    "def kiertekelo_fuggveny(df, tipp_oszlop_neve, target_oszlop_neve):\n",
    "    mean_absolute_error=   (abs(df[tipp_oszlop_neve]-df[target_oszlop_neve])).mean()\n",
    "    \n",
    "    MAPE=(abs((df[target_oszlop_neve] - df[tipp_oszlop_neve])/df[target_oszlop_neve])).mean()\n",
    "    rmse =  np.sqrt( ( (df[tipp_oszlop_neve]-df[target_oszlop_neve])**2 ).mean() )\n",
    "    print(\"RMSE\",rmse)\n",
    "    print(\"MAE:\",mean_absolute_error)\n",
    "    print(\"MAPE:\",MAPE)\n",
    "    df[\"tipp_arany\"] = df[target_oszlop_neve]/df[tipp_oszlop_neve]\n",
    "    erdekesek = df[ (df['tipp_arany']> 0.75) & (df['tipp_arany'] < 0.95)]\n",
    "    print(\"Atnezendok aranya\", len(erdekesek)/len(df))\n",
    "    return erdekesek"
   ]
  },
  {
   "cell_type": "code",
   "execution_count": 45,
   "id": "1d8212bb",
   "metadata": {},
   "outputs": [
    {
     "name": "stdout",
     "output_type": "stream",
     "text": [
      "RMSE 84395.73240336076\n",
      "MAE: 55183.947416220566\n",
      "MAPE: 0.115254033852456\n",
      "Atnezendok aranya 0.33756477673512525\n"
     ]
    }
   ],
   "source": [
    "# A feladat egy olyan gépi tanulási megoldás elkészítése, ami egy ingatlan adathalmazon képes megjeleníteni, hogy mely ingatlanokat érdemes megvizsgálni, hiszen azok a becsült piaci ár alatt vannak 5-25%-kal.\n",
    "\n",
    "test_df = df.copy()\n",
    "test_df['tipp']=best.predict(test_df[bemenok_final])\n",
    "erdekesek = kiertekelo_fuggveny(test_df, 'tipp', 'jelen_nmAr')\n",
    "\n",
    "df_to_write = pd.read_csv('data/DataSet_LakasArak.csv')\n",
    "df_to_write = df_to_write.filter(items=erdekesek.index, axis=0)\n",
    "df_to_write.to_csv('Results_O78UXU.csv', index=False)"
   ]
  }
 ],
 "metadata": {
  "kernelspec": {
   "display_name": "Python 3 (ipykernel)",
   "language": "python",
   "name": "python3"
  },
  "language_info": {
   "codemirror_mode": {
    "name": "ipython",
    "version": 3
   },
   "file_extension": ".py",
   "mimetype": "text/x-python",
   "name": "python",
   "nbconvert_exporter": "python",
   "pygments_lexer": "ipython3",
   "version": "3.9.7"
  }
 },
 "nbformat": 4,
 "nbformat_minor": 5
}
